{
  "nbformat": 4,
  "nbformat_minor": 0,
  "metadata": {
    "colab": {
      "name": "02_CourseWork_CNN_Introduction.ipynb",
      "provenance": [],
      "collapsed_sections": [],
      "toc_visible": true,
      "include_colab_link": true
    },
    "kernelspec": {
      "name": "python3",
      "display_name": "Python 3"
    },
    "accelerator": "GPU"
  },
  "cells": [
    {
      "cell_type": "markdown",
      "metadata": {
        "id": "view-in-github",
        "colab_type": "text"
      },
      "source": [
        "<a href=\"https://colab.research.google.com/github/justma360/Deep_Learning/blob/main/02_CourseWork_CNN_Introduction.ipynb\" target=\"_parent\"><img src=\"https://colab.research.google.com/assets/colab-badge.svg\" alt=\"Open In Colab\"/></a>"
      ]
    },
    {
      "cell_type": "markdown",
      "metadata": {
        "id": "5uoxdNjkDw2K"
      },
      "source": [
        "# Introduction to Convolutional Neural Networks\n",
        "\n",
        "This tutorial addresses the basic concepts regarding Convolutional Neural Networks and their implementation using the Keras framework.\n",
        "Convolutional Neural Networks (CNNs) are a class of feed-forward artificial neural architecture. They are applied to analyse visual 2D imagery, meaning that we can feed images directly into a CNN without the need to flatten them into a 1D vector as done in the previous tutorial.\n",
        "CNNs have revolutionised the field of computer vision in the last decade. In 2012 Alex Krizhevsky introduced the AlexNet architecture to win the ImageNet Challenge (one of the most important competitions on image classification within the Computer Vision community), by reducing the top-5 error more than 10 percentage points, which was an incredible improvement at that time. As of now, CNNs are used not only on image classification but in many other computer vision tasks.\n",
        "\n",
        "![](https://cdn-5f733ed3c1ac190fbc56ef88.closte.com/wp-content/uploads/2017/03/alexnet_small-1.png)\n",
        "\n",
        "The image above is from [cv-tricks' blog](https://cv-tricks.com/cnn/understand-resnet-alexnet-vgg-inception/) and shows the proposed AlexNet architecture. It is composed of 5 convolutional layers followed by 3 fully connected layers. Nowadays, we can find much deeper and more complex architectures, which outperform AlexNet on the ImageNet Challenge. \n",
        "\n",
        "\n",
        "\n",
        "\n",
        "\n"
      ]
    },
    {
      "cell_type": "markdown",
      "metadata": {
        "id": "dJ2d_oQ2UEPz"
      },
      "source": [
        "## CNN Structure\n",
        "\n",
        "The basic pipeline of common CNNs consists of an image as input and a stack of convolutional layers that extract a feature representation from the input image. The final shape of the image representation is conditioned on the type of problem/task that the architecture is facing. For instance, the output of the last layer in a classification problem is a probability vector. Each dimension of the probability vector represents how likely is that the input image belongs to a specific class. However, the architecture design is up to us, and therefore, we could code a network that outputs a single value for regression problems, or that generates a new image map for semantic segmentation. Now, let's dig in a bit into CNN and introduce some layers that are widely used. "
      ]
    },
    {
      "cell_type": "markdown",
      "metadata": {
        "id": "wvNKve9GZL4M"
      },
      "source": [
        "### 2D Convolutional Layer\n",
        "\n",
        "The most common layer in any CNN architecture is the 2D convolutional layer. Convolutional layers are specifically designed to extract features from images or even extract features from previously extracted features. As shown in the following illustration, 2D convolutions apply the same filter to the full image. And therefore, due to its nature, 2D convolutional filters exploit the local information presented in images, making them a powerful tool for image analysis. \n",
        "\n",
        "![](https://cdn-images-1.medium.com/max/800/1*Fw-ehcNBR9byHtho-Rxbtw.gif)\n",
        "\n",
        "Image [source](https://towardsdatascience.com/intuitively-understanding-convolutions-for-deep-learning-1f6f42faee1).\n",
        "\n",
        "The latest deep learning frameworks have made possible the integration of convolutional layers easily on our architectures with only a single line of code. We will address here how 2D convolutions work since full understanding is needed to comprehend how any CNN operates. The following images and some explanations can be further explored on the original [Irhum Shafkat's blog](https://towardsdatascience.com/intuitively-understanding-convolutions-for-deep-learning-1f6f42faee1) or in the [Neural Networks and Deep Learning](http://neuralnetworksanddeeplearning.com/) book. Both are strongly recommended.\n",
        "\n",
        "To understand 2D convolutions, we need to define first what a kernel is. Kernels are simply matrices of numbers. The numbers on the kernels are the so-called weights, and the weights on the kernels change as we train the network. Hence, network training aims to optimise the network's parameters (update the kernel weights) such that the cost function is minimised. \n",
        "\n",
        "The 2D convolution operation takes the network's kernels and \"slides\" them over the input image (alike to a sliding window) as in the following image from [PyImageSearch](https://www.pyimagesearch.com/2015/03/23/sliding-windows-for-object-detection-with-python-and-opencv/) blog:\n",
        "\n",
        "![](https://pyimagesearch.com/wp-content/uploads/2014/10/sliding_window_example.gif)\n",
        "\n",
        "In each step, the network performs an element-wise multiplication with the elements that are currently on. The results of this elementwise multiplication are added to obtain the output value of the operation. CNNs repeat previous step for all the positions of the sliding window, composing at the end the feature map. This generated feature map can go through another 2D convolutional layer and create more powerful features. \n",
        "\n",
        "> \n",
        "\n",
        "![](https://cdn-images-1.medium.com/max/800/1*Zx-ZMLKab7VOCQTxdZ1OAw.gif)\n",
        "\n",
        "> \n",
        "The previous image shows the 2D convolution operation. Thus, the new feature values are the weighted sum of all the elements in the sliding window after the elementwise multiplication between input and kernel.  The bigger the size of the kernel is, the more feature elements contribute to the final output value. In contrast to fully connected layers, where a new feature value is a weighted sum over **all** input values, as mentioned, 2D convolutions compute features based on local areas. In other words, instead of looking at every input component, they consider only features coming from close locations. \n",
        "\n",
        "In the above example, the input image on the left has a size of 5x5 and the dimension of the resulting feature map is 3x3, showing that the size of the output maps is not always equal to the input. Hence, the output size can be computed by doing:\n",
        "\n",
        "$O = W - K + 1$,\n",
        "\n",
        "where $O$ is the output height/length, $W$ is the input height/length and $K$ is the kernel size. The output size is not only conditioned on the input size but also on the kernel size. Check in the following code cell how the output feature map shape changes as you increase the kernel size. In Keras, we define the layer by using `Conv2D` from `keras.layers` (documentation [here](https://keras.io/layers/convolutional/#conv2d)).\n",
        "\n",
        "\n",
        "\n",
        "\n",
        "\n",
        "\n",
        "\n"
      ]
    },
    {
      "cell_type": "code",
      "metadata": {
        "id": "ez90vQEksR9b",
        "colab": {
          "base_uri": "https://localhost:8080/"
        },
        "outputId": "8c29b8ba-8eeb-4e2e-998e-12e2ad240f92"
      },
      "source": [
        "import numpy as np\n",
        "import keras\n",
        "import tensorflow as tf\n",
        "from keras.models import Sequential\n",
        "from keras.layers import Conv2D\n",
        "\n",
        "# Generate dummy data\n",
        "input_feature = np.random.random((1, 100, 100, 1))\n",
        "\n",
        "# input: 100x100 image with 1 channels -> (100, 100, 1) tensor.\n",
        "# this applies 1 convolution filter of size 3x3 each.\n",
        "model = Sequential()\n",
        "model.add(Conv2D(1, (3, 3), input_shape=(100, 100, 1))) # Convolution filter of size (1,3,3) (depth 1)\n",
        "\n",
        "output_feature = model.predict(input_feature)\n",
        "\n",
        "print('Input size: ({:}, {:})'.format(input_feature.shape[1], input_feature.shape[2]))\n",
        "print('Output size: ({:}, {:})'.format(output_feature.shape[1], output_feature.shape[2]))\n",
        "# predicted output would be O=W-K+1 = 100 - 3 + 1 = 98"
      ],
      "execution_count": null,
      "outputs": [
        {
          "output_type": "stream",
          "text": [
            "Input size: (100, 100)\n",
            "Output size: (98, 98)\n"
          ],
          "name": "stdout"
        }
      ]
    },
    {
      "cell_type": "markdown",
      "metadata": {
        "id": "mNOhth4FuNob"
      },
      "source": [
        "Moreover, the kernel size and the input size are not the only parameters affecting the output size. We are going to introduce two extra elements that change the size of the output map: the padding and the stride."
      ]
    },
    {
      "cell_type": "markdown",
      "metadata": {
        "id": "mT6f_n5QiU8X"
      },
      "source": [
        "### Adding Padding to Input Features\n",
        "\n",
        "In some tasks, such as [image translation](https://arxiv.org/pdf/1611.07004.pdf), we need the output size to be **equal** to the input size. The solution to that is using padding, where extra edges are added to the input features so that the dimension is not reduced after the convolutional layer. Normally those pixels have $0$ value (termed zero-padding), but depending on the application other methods could be used, e.g., reflection or symmetric padding.\n",
        "\n",
        "![](https://cdn-images-1.medium.com/max/800/1*1okwhewf5KCtIPaFib4XaA.gif)\n",
        "\n",
        "If padding is used, the new output size can be computed by doing:\n",
        "\n",
        "$O = W - K + 2P+ 1$, \n",
        "\n",
        "where $P$ is the padding value. $P$ must be set in concordance with the kernel size if dimensionality wants to be preserved. Padding can be added to the `Conv2d` layer in Keras by using the padding argument and selecting one of the two settings: `valid`, which is the default value and means no padding; and `same`, which adapts the padding value to have the same output size as input size."
      ]
    },
    {
      "cell_type": "code",
      "metadata": {
        "id": "X7Z5G2O00Etd",
        "colab": {
          "base_uri": "https://localhost:8080/"
        },
        "outputId": "2ec1cd88-7936-42a7-8469-269cd13013b3"
      },
      "source": [
        "import numpy as np\n",
        "import keras\n",
        "import tensorflow as tf\n",
        "from keras.models import Sequential\n",
        "from keras.layers import Conv2D\n",
        "\n",
        "# Generate dummy data\n",
        "input_feature = np.random.random((1, 100, 100, 1))\n",
        "\n",
        "# input: 100x100 image with 1 channels -> (100, 100, 1) tensor.\n",
        "# this applies 1 convolution filter of size 3x3 each.\n",
        "# attribute padding='same' applies zero-padding to the input feature map\n",
        "model = Sequential()\n",
        "model.add(Conv2D(1, (3, 3), input_shape=(100, 100, 1), padding='same')) # padding \"same\" makes the dimensions remain the same\n",
        "\n",
        "output_feature = model.predict(input_feature)\n",
        "# Predicted size would be O=W−K+2P+1 = 100 - 3 + 2*1 + 1 = 100\n",
        "print('Input size: ({:}, {:})'.format(input_feature.shape[1], input_feature.shape[2]))\n",
        "print('Output size: ({:}, {:})'.format(output_feature.shape[1], output_feature.shape[2]))\n"
      ],
      "execution_count": null,
      "outputs": [
        {
          "output_type": "stream",
          "text": [
            "Input size: (100, 100)\n",
            "Output size: (100, 100)\n"
          ],
          "name": "stdout"
        }
      ]
    },
    {
      "cell_type": "markdown",
      "metadata": {
        "id": "tdB4jMeswXVA"
      },
      "source": [
        "### Using Stride in Convolutional Layers\n",
        "\n",
        "The stride operation allows the convolutional layers to skip some of the sliding windows explained above. Hence, instead of jumping one pixel apart, we can define the number of skipped elements before computing the weighting sum between the kernel's weights and input features. A stride of 1 means that features will be extracted from all windows a pixel apart, so basically, every single window is computed. A stride of 2 means that we are selecting windows 2 pixels apart, skipping every other window in the process. Strides reduce the number of computations and consequently the size of the output map. In practice, as we go deeper into the CNN, the spatial size of the feature map gets smaller while the number of channels increases. Moreover, we can further reduce the size of the feature map using pooling operations, which we introduce later in this tutorial.\n",
        "\n",
        "![](https://cdn-images-1.medium.com/max/800/1*BMngs93_rm2_BpJFH2mS0Q.gif)\n",
        "\n",
        "If strides are used, the new output size can be computed as:\n",
        "\n",
        "$O = \\dfrac{W - K + 2P}{S}+ 1$, \n",
        "\n",
        "where $S$ is the stride value. The stride is set in the layer by using the `strides` argument."
      ]
    },
    {
      "cell_type": "code",
      "metadata": {
        "id": "Y8GjztiH0hnw",
        "colab": {
          "base_uri": "https://localhost:8080/"
        },
        "outputId": "a9675dbf-daab-43cd-d42a-5a5d5356c080"
      },
      "source": [
        "import numpy as np\n",
        "import keras\n",
        "import tensorflow as tf\n",
        "from keras.models import Sequential\n",
        "from keras.layers import Conv2D\n",
        "\n",
        "# Generate dummy data\n",
        "input_feature = np.random.random((1, 100, 100, 1))\n",
        "\n",
        "# input: 100x100 image with 1 channels -> (100, 100, 1) tensor.\n",
        "# this applies 1 convolution filter of size 3x3 each.\n",
        "# attribute padding='same' applies zero-padding to the input feature map\n",
        "# attribute strides=2 applies applies stride of 2\n",
        "model = Sequential()\n",
        "model.add(Conv2D(1, (3, 3), input_shape=(100, 100, 1), padding='same', strides=2))\n",
        "\n",
        "output_feature = model.predict(input_feature)\n",
        "# Predicted size would be O=(W−K+2PS)/S +1 = (100 - 3 + 2* 1/2 )/2 + 1 = \n",
        "print('Input size: ({:}, {:})'.format(input_feature.shape[1], input_feature.shape[2]))\n",
        "print('Output size: ({:}, {:})'.format(output_feature.shape[1], output_feature.shape[2]))"
      ],
      "execution_count": null,
      "outputs": [
        {
          "output_type": "stream",
          "text": [
            "Input size: (100, 100)\n",
            "Output size: (50, 50)\n"
          ],
          "name": "stdout"
        }
      ]
    },
    {
      "cell_type": "markdown",
      "metadata": {
        "id": "f-fKvgJ3H2gr"
      },
      "source": [
        "## Differences Between Kernel and Filters\n",
        "\n",
        "The examples above take as input a single-channel image and compute a feature map with also one channel. However, when dealing with RGB images or feature maps, the input is no longer a single-channel map but, instead, they can have multiple channels. In the case of an RGB image, for each 2D convolution, we will need to define 3 kernels to interact with each of the image's channel colours. This group of kernels is called a filter. Thus, **a filter is a collection of kernels that produces a single output**.\n",
        "\n",
        "As a regular practice when defining Deep Learning models, we increase the number of filters in each convolutional layer as we go deeper into the model. Due to the element-wise multiplication, the number of kernels on each filter must be the same that the number of channels in the input feature map. Keras already deals with the number of kernels inside each filter. Keras keeps track of the input size in each convolutional layer unlike other frameworks (Pytorch or TensorFlow). Hence, in Keras, we must only decide the number of filters (output channels) in each layer.\n",
        "\n",
        "The next figure shows how the convolution is performed when having three input channels. First, one filter uses its three independent kernels to convolve with the RGB channels of the input image:\n",
        "\n",
        "![](https://cdn-images-1.medium.com/max/1000/1*8dx6nxpUh2JqvYWPadTwMQ.gif)\n",
        "\n",
        "Next, each of the processed feature maps is added together to obtain a single channel:\n",
        "\n",
        "![](https://cdn-images-1.medium.com/max/1000/1*CYB2dyR3EhFs1xNLK8ewiA.gif)\n",
        "\n",
        "Finally, we add the bias term to obtain the feature map. There is a **single bias for the full output channel map**. This operation is repeated for all the filters inside the convolutional layer.\n",
        "\n",
        "Now, we show how to use a `Conv2D` layer that takes an input image with 3 channels and generates an output map with 32 channels.\n"
      ]
    },
    {
      "cell_type": "code",
      "metadata": {
        "id": "nqiEwpdROxga",
        "colab": {
          "base_uri": "https://localhost:8080/"
        },
        "outputId": "ff887e35-3c8a-4f00-8d3c-58a1e8210e81"
      },
      "source": [
        "import numpy as np\n",
        "import keras\n",
        "import tensorflow as tf\n",
        "from keras.models import Sequential\n",
        "from keras.layers import Conv2D\n",
        "\n",
        "# Generate dummy data\n",
        "input_feature = np.random.random((1, 100, 100, 3)) # 100,100,3 \n",
        "\n",
        "# input: 100x100 image with 3 channels -> (100, 100, 3) tensor.\n",
        "# this applies 32 convolution filters of size 3x3 each.\n",
        "# attribute padding='same' applies zero-padding to the input feature map\n",
        "# attribute strides=2 applies applies stride of 2\n",
        "model = Sequential()\n",
        "model.add(Conv2D(32, (3, 3), input_shape=(100, 100, 3), padding='same', strides=2))\n",
        "\n",
        "output_feature = model.predict(input_feature)\n",
        "\n",
        "print('Input size: ({:}, {:}, {:})'.format(input_feature.shape[1], input_feature.shape[2], input_feature.shape[3]))\n",
        "print('Output size: ({:}, {:}, {:})'.format(output_feature.shape[1], output_feature.shape[2], output_feature.shape[3]))"
      ],
      "execution_count": null,
      "outputs": [
        {
          "output_type": "stream",
          "text": [
            "Input size: (100, 100, 3)\n",
            "Output size: (50, 50, 32)\n"
          ],
          "name": "stdout"
        }
      ]
    },
    {
      "cell_type": "markdown",
      "metadata": {
        "id": "S50cYwkhPqka"
      },
      "source": [
        "## Activation Functions\n",
        "\n",
        "As seen in previous tutorials, after a `Dense` layer we usually can find an activation function. We introduce here how to use them after `Conv2D` layers. Those activation functions are a set of operators that maps the feature values to a new set of values, the mapping depends on the function at hand. The main reason for using activation functions is that **they add non-linearities to the network**, giving more expressive power to the network, which will be able to reproduce more complex functions. \n",
        "\n",
        "\n",
        "The complete list of activation functions that Keras offers can be found [here](https://keras.io/activations/). We introduce here some of them:\n",
        "\n",
        "*  **Sigmoid Function** sets the output in the range (0, 1). The sigmoid function is widely used in binary classification problems since its output can be taken as a probability value. `keras.activations.sigmoid(x)`:\n",
        "\n",
        ">![](https://i.ibb.co/Ph8dsTv/sigmoid.png)\n",
        "\n",
        "*  **Tanh Function** is a logistic function as sigmoid, but the range of the tanh function is (-1, 1). Contrary to sigmoid function, where the values close to 0 are set around 0.5, in the tanh function they will be still mapped around the 0 value. `keras.activations.tanh(x)`:\n",
        "\n",
        ">![](https://i.ibb.co/68g7LpL/tanh.png)\n",
        "\n",
        "*  **ReLU Function** is the most common activation function you can find in any current CNN as in general works better than the rest. The range of this function is in \\[0, inf). It sets all negative values to 0 and hence is computationally easy to implement. As a drawback, during training some neurons *die*, meaning that the output is 0 for all available data points and no gradient is propagated there. `keras.activations.relu(x, alpha=0.0, max_value=None, threshold=0.0)`:\n",
        "\n",
        ">![](https://i.ibb.co/Zd9H8Z4/relu.png)\n",
        "\n",
        "*  **LeakyReLU Function** is a modified version of the ReLU activation above, which attempts to solve the problem of dying neurons that ReLU has. While ReLU does not backpropagate negative values, Leaky ReLU smooths those values without setting them to 0. That allows the gradients to backpropagate through the network even for negative values. `keras.layers.LeakyReLU(alpha=0.3)`:\n",
        "\n",
        ">![](https://i.ibb.co/dmnJ6h1/leakyrelu.png)\n",
        "\n",
        "*  **Softmax Function** is another widely activation function for multi-class classification problems and usually is employed as the last activation function in the classification model. This function sets all of the output elements to the range (0, 1). However, the softmax function does not take independently the input values to map it into its probability value. Softmax Function takes an un-normalized vector, $s$, and normalizes it into a probability distribution, $p$, following the softmax expression. As the output is a probability, the output elements add up to 1. `keras.activations.softmax(x, axis=-1)`. Thus, the output value $p_i$ is computed as:\n",
        "\n",
        "> $p_{i} = \\dfrac{e^{s_i}}{\\sum_{\\substack{j}}^{N} e^{s_j}}$"
      ]
    },
    {
      "cell_type": "markdown",
      "metadata": {
        "id": "-MWo2VsYr5T2"
      },
      "source": [
        "The following example shows the feature maps before and after of the ReLU activation function. All values that are negative are set to 0 after the activation function.\n",
        "\n",
        "\n"
      ]
    },
    {
      "cell_type": "code",
      "metadata": {
        "id": "lp1HH0VOqN0N",
        "colab": {
          "base_uri": "https://localhost:8080/"
        },
        "outputId": "344af09e-e9e0-4777-c3ac-df0e85d184fd"
      },
      "source": [
        "import numpy as np\n",
        "import keras\n",
        "import tensorflow as tf\n",
        "tf.compat.v1.logging.set_verbosity(tf.compat.v1.logging.ERROR)\n",
        "from keras.models import Sequential, Model\n",
        "from keras.layers import Conv2D, Activation\n",
        "\n",
        "# Generate dummy data\n",
        "input_feature = np.random.random((1, 3, 3, 1)) - 0.5\n",
        "\n",
        "# input: 3x3 image with 1 channel -> (3, 3, 1) tensor.\n",
        "# This applies a 1 convolution filter of size 3x3 each.\n",
        "# This applies a ReLU activation function\n",
        "model = Sequential()\n",
        "# add a Convolution filter of 1 output and 3x3 filter size\n",
        "# Input shape is 3x3x1, padding = same size and strides are 1 \n",
        "# added name \"conv\"\n",
        "model.add(Conv2D(1, (3, 3), input_shape=(3, 3, 1), padding='same', strides=1, name='conv'))\n",
        "model.add(Activation('relu')) # selected method of activation function\n",
        "\n",
        "# Gets the results of the layer called \"Conv\" and sees the values \n",
        "model_before_ReLU = Model(inputs=model.input, outputs=model.get_layer('conv').output)\n",
        "\n",
        "# Gets the output of the models before and after the activation function\n",
        "output_feature = model_before_ReLU.predict(input_feature)\n",
        "output_ReLu_feature = model.predict(input_feature)\n",
        "\n",
        "print('Output Network without activation function')\n",
        "print(output_feature)\n",
        "\n",
        "print('')\n",
        "print('Output Network after ReLU activation function')\n",
        "print(output_ReLu_feature)\n",
        "\n",
        "# Notice that all the negatives have turn to 0"
      ],
      "execution_count": null,
      "outputs": [
        {
          "output_type": "stream",
          "text": [
            "Output Network without activation function\n",
            "[[[[-0.22089009]\n",
            "   [ 0.06958135]\n",
            "   [-0.15837324]]\n",
            "\n",
            "  [[-0.0608819 ]\n",
            "   [ 0.00961287]\n",
            "   [-0.04929804]]\n",
            "\n",
            "  [[-0.097082  ]\n",
            "   [ 0.03146121]\n",
            "   [ 0.19865987]]]]\n",
            "\n",
            "Output Network after ReLU activation function\n",
            "[[[[0.        ]\n",
            "   [0.06958135]\n",
            "   [0.        ]]\n",
            "\n",
            "  [[0.        ]\n",
            "   [0.00961287]\n",
            "   [0.        ]]\n",
            "\n",
            "  [[0.        ]\n",
            "   [0.03146121]\n",
            "   [0.19865987]]]]\n"
          ],
          "name": "stdout"
        }
      ]
    },
    {
      "cell_type": "markdown",
      "metadata": {
        "id": "Ys6ZB1DOTLH6"
      },
      "source": [
        "## Pooling Layer\n",
        "\n",
        "It is a common practice to insert a pooling layer between convolutional layers in CNNs. In a standard CNN architecture, we set the feature sizes to become smaller progressively to reduce the computation in the networks, and to merge the information from different spatial locations. To reduce the feature map sizes, we can either use bigger stride size in the convolutional layers or we can use pooling layers. Pooling layers perform a spatial sliding window and apply an operation to reduce the spatial size. Those operations vary depending on the architecture, being the max, mean and min pooling the most typical ones. Here, we will explain the max pooling, although all the others work similarly. Max pooling keeps only the max value in a neighbourhood, where the neighbourhood is defined by the size of the kernel. Let's visualise it, the next example shows the result of a Max Pooling layer with a 2x2 kernel and a stride of 2.\n",
        "\n",
        "![](https://i.ibb.co/Xp454S4/MaxPool.png)\n",
        "\n",
        "As in convolutional layers, the final size is conditioned to the stride size of the pooling layer. However, contrary to convolutional layers, pooling layers operate independently on each of the input channels, without modifying the depth of the feature maps. To add max pooling to our model we need to import `MaxPooling2d` from `keras.layers` and define the stride and pooling size."
      ]
    },
    {
      "cell_type": "code",
      "metadata": {
        "id": "HzoTGOwDmQm4",
        "colab": {
          "base_uri": "https://localhost:8080/"
        },
        "outputId": "db7e0a86-80ba-4e49-b192-95dfb534ef66"
      },
      "source": [
        "import numpy as np\n",
        "import keras\n",
        "import tensorflow as tf\n",
        "from keras.models import Sequential\n",
        "from keras.layers import Conv2D, Activation, MaxPooling2D\n",
        "\n",
        "# Generate dummy data \n",
        "input_feature = np.random.random((1, 100, 100, 3))\n",
        "\n",
        "# input: 100x100 image with 3 channels -> (100, 100, 3) tensor.\n",
        "# this applies 32 convolution filters of size 3x3 each.\n",
        "# attribute padding='same' applies zero-padding to the input feature map\n",
        "# attribute strides=1 applies applies stride of 1\n",
        "model = Sequential()\n",
        "model.add(Conv2D(32, (3, 3), input_shape=(100, 100, 3), padding='same', strides=1))\n",
        "model.add(Activation('relu'))\n",
        "\n",
        "# adding pooling layer (pool size 2x2) and stride = blocks it moves up and down (2)\n",
        "model.add(MaxPooling2D(pool_size=(2, 2), strides=(2, 2), padding='same'))\n",
        "\n",
        "output_feature = model.predict(input_feature)\n",
        "# expected half the size with 32 output layers as we have Conv2D \n",
        "print('Input size: ({:}, {:}, {:})'.format(input_feature.shape[1], input_feature.shape[2], input_feature.shape[3]))\n",
        "print('Output size: ({:}, {:}, {:})'.format(output_feature.shape[1], output_feature.shape[2], output_feature.shape[3]))"
      ],
      "execution_count": null,
      "outputs": [
        {
          "output_type": "stream",
          "text": [
            "Input size: (100, 100, 3)\n",
            "Output size: (50, 50, 32)\n"
          ],
          "name": "stdout"
        }
      ]
    },
    {
      "cell_type": "markdown",
      "metadata": {
        "id": "LKU4-GbZHw0R"
      },
      "source": [
        "# Example: Classification on MNIST\n",
        "\n",
        "As opposed to the *Introduction to Keras* tutorial, in this section, we show how to perform image classification when the input data is a 2D image instead of a flat 1D vector. \n",
        "\n",
        "As discussed above, Convolutional Neural Networks aim to extract and exploit the local relationships on 2D maps, hence, CNNs are much more convenient for images than Multi-layer Perceptron models. \n",
        "\n",
        "First of all, we load the MNIST dataset from Keras' framework. The definition of the data is almost identical than in the Keras tutorial, although this time we are not reshaping the input images into a 1D vector."
      ]
    },
    {
      "cell_type": "code",
      "metadata": {
        "id": "3t0Wq9ArL4EZ",
        "colab": {
          "base_uri": "https://localhost:8080/"
        },
        "outputId": "38af801b-1226-472d-d966-6724ee4d4f6f"
      },
      "source": [
        "import tensorflow as tf\n",
        "tf.compat.v1.logging.set_verbosity(tf.compat.v1.logging.ERROR)\n",
        "from keras.models import Sequential\n",
        "from keras.layers import Dense, Dropout, Activation, BatchNormalization\n",
        "from keras.utils import np_utils\n",
        "from keras.datasets import mnist\n",
        "from keras.optimizers import RMSprop\n",
        "from keras.layers import Conv2D, MaxPooling2D, Flatten\n",
        "import numpy as np\n",
        "import matplotlib.pyplot as plt\n",
        "\n",
        "# the data, shuffled and split between train and test sets \n",
        "(x_train, y_train), (x_test, y_test) = mnist.load_data()\n",
        "\n",
        "# Determine the size of the training data\n",
        "shape = x_train.shape\n",
        "\n",
        "print(\"shape has size: \" , shape)\n"
      ],
      "execution_count": null,
      "outputs": [
        {
          "output_type": "stream",
          "text": [
            "Downloading data from https://storage.googleapis.com/tensorflow/tf-keras-datasets/mnist.npz\n",
            "11493376/11490434 [==============================] - 0s 0us/step\n",
            "shape has size:  (60000, 28, 28)\n"
          ],
          "name": "stdout"
        }
      ]
    },
    {
      "cell_type": "code",
      "metadata": {
        "colab": {
          "base_uri": "https://localhost:8080/",
          "height": 267
        },
        "id": "o4DfF5_dNiJy",
        "outputId": "c14d9ae5-2cfd-4fa6-8ff2-6d0d109b92d1"
      },
      "source": [
        "# First create a grid of the input data \r\n",
        "N=5 # 5x5 grid to show the input data\r\n",
        "\r\n",
        "start_val = 0 # pick an element for the code to plot the following N**2 values\r\n",
        "\r\n",
        "fig, axes = plt.subplots(N,N) #plot 5 by 5 grid of MNST data \r\n",
        "\r\n",
        "items = list(range(0, 10)) # the results are a value between 0 --> 10\r\n",
        "\r\n",
        "for row in range(N):\r\n",
        "  for col in range(N): # for all rows and all columns \r\n",
        "    idx = start_val+row+N*col # Gets the index of the sample images\r\n",
        "    axes[row,col].imshow(x_train[idx], cmap='gray') # Image of the numbers\r\n",
        "    fig.subplots_adjust(hspace=0.5) # adjust spacing of the images\r\n",
        "    y_target = int(y_train[idx]) # Target value\r\n",
        "    target = str(items[y_target]) # Expected target value of the image in a string\r\n",
        "    axes[row,col].set_title(target) # Title is the target number that is expected \r\n",
        "    axes[row,col].set_xticks([]) # Removes the X labels\r\n",
        "    axes[row,col].set_yticks([]) # Remove Y labels"
      ],
      "execution_count": null,
      "outputs": [
        {
          "output_type": "display_data",
          "data": {
            "image/png": "[encoded data removed]",
            "text/plain": [
              "<Figure size 432x288 with 25 Axes>"
            ]
          },
          "metadata": {
            "tags": []
          }
        }
      ]
    },
    {
      "cell_type": "code",
      "metadata": {
        "colab": {
          "base_uri": "https://localhost:8080/"
        },
        "id": "jEHeUGWPOsIc",
        "outputId": "f4c106a2-65bd-4132-a9fe-1f3942a627cc"
      },
      "source": [
        "# Shape before \r\n",
        "print(\"shape has size: \" , shape)\r\n",
        "\r\n",
        "# Reshape the input images\r\n",
        "x_train = np.expand_dims(x_train.astype('float32'), -1) # adds a last dimension (28,28,1) \r\n",
        "x_test = np.expand_dims(x_test.astype('float32'), -1) # -2 would be (28,1,28)\r\n",
        "\r\n",
        "# Shape after\r\n",
        "print(\"x train size: {0}  \\nx test size: {1}\".format(x_train.shape, x_test.shape))\r\n",
        "\r\n",
        "#Normalize the data\r\n",
        "x_train /= 255\r\n",
        "x_test /= 255\r\n",
        "\r\n",
        "# Create the class for the 10 numbers into binary One hot encoding\r\n",
        "y_train_class = np_utils.to_categorical(y_train, 10)\r\n",
        "y_test_class = np_utils.to_categorical(y_test, 10)\r\n",
        "\r\n",
        "print('Image shape: {0}'.format(x_train.shape[1:]))\r\n",
        "print('Total number of training samples: {0}'.format(x_train.shape[0]))\r\n",
        "print('Total number of test samples: {0}'.format(x_test.shape[0]))"
      ],
      "execution_count": null,
      "outputs": [
        {
          "output_type": "stream",
          "text": [
            "shape has size:  (60000, 28, 28)\n",
            "x train size: (60000, 28, 28, 1)  \n",
            "x test size: (10000, 28, 28, 1)\n",
            "Image shape: (28, 28, 1)\n",
            "Total number of training samples: 60000\n",
            "Total number of test samples: 10000\n"
          ],
          "name": "stdout"
        }
      ]
    },
    {
      "cell_type": "markdown",
      "metadata": {
        "id": "4Wp29GszMO-j"
      },
      "source": [
        "As illustrated in the cell, this time the input image before the model is 28x28x1. \n",
        "\n",
        "Now we can define a model composed of convolutional layers, activation functions, and maxpool operators:"
      ]
    },
    {
      "cell_type": "code",
      "metadata": {
        "id": "B78NUAqwMeFR"
      },
      "source": [
        "# sequential model\n",
        "model = Sequential()\n",
        "\n",
        "# First hidden layer - Convolution \n",
        "# Convolution level with 16 outputs, Filter = 3x3, padding same, Input dimension = shape\n",
        "model.add(Conv2D(16, (3,3), padding='same', input_shape=x_train.shape[1:],name='1.Conv_O16'))\n",
        "# After the convolution layer we apply a ReLu Activation function\n",
        "model.add(Activation('relu',name='2.Activation1_ReLU'))\n",
        "\n",
        "# Second hidden layer - Pooling \n",
        "# Add a layer with a pooling size of 2x2, assuming a stride 1\n",
        "model.add(MaxPooling2D(pool_size=(2,2),name='3.Pooling_2x2'))\n",
        "\n",
        "# Third hidden layer - Convolution \n",
        "# another convolution later with 16 outputs similar to the first hidden\n",
        "model.add(Conv2D(16, (3,3), padding='same',name='4.Conv_O16')) \n",
        "# Activation function again to identify features\n",
        "model.add(Activation('relu',name='5.Activation2_ReLU'))\n",
        "\n",
        "# finally add a max pooling to further reduce the size of the info of the NN \n",
        "model.add(MaxPooling2D(pool_size=(2,2),name='6.Pooling_2x2'))\n",
        "\n"
      ],
      "execution_count": null,
      "outputs": []
    },
    {
      "cell_type": "markdown",
      "metadata": {
        "id": "BX_KAFlBMnVZ"
      },
      "source": [
        "As explained in the previous tutorial, in a classification problem, the output of the model is a probability vector. Each dimension of the vector indicates how likely is that the input image belongs to a specific class. \n",
        "\n",
        "Up to now, the resulting feature map of the model is a map with the shape *Batch x Weight' x Height' x Channel*, and it needs to be mapped into a vector with shape *Batch x Num Classes*. A common technique to process this mapping is to add a Flatten layer that will reshape the feature map to *Batch x (Weight' * Height' * Channel)*. Following the Flatten layer, we add a dense layer which maps this new feature map to the desired output size. \n",
        "\n",
        "Current shape: Batch x Weight x Height x Channel \n",
        "Wanted shape: Batch x Num Classes\n",
        "\n",
        "Flatten shape: Batch x (W x H x C)\n",
        "\n",
        "Then a dense (Fully connected layer) is needed to convert to desired output size. FC is for the final classification type "
      ]
    },
    {
      "cell_type": "code",
      "metadata": {
        "id": "3CAc1r2vOJQv"
      },
      "source": [
        "# Flatten to correct shape\n",
        "model.add(Flatten())\n",
        "\n",
        "# Add dense layer to combine the features for final classification type\n",
        "model.add(Dense(10))\n",
        "model.add(Activation('softmax',name='8.Act3_Soft'))\n",
        "# Activation function which converts the results into 0 -> 1 (which each sec)"
      ],
      "execution_count": null,
      "outputs": []
    },
    {
      "cell_type": "markdown",
      "metadata": {
        "id": "aHInEJ-aON5v"
      },
      "source": [
        "Let's visualize the output shape in each layer."
      ]
    },
    {
      "cell_type": "code",
      "metadata": {
        "id": "UD4NZtIxOTbY",
        "colab": {
          "base_uri": "https://localhost:8080/"
        },
        "outputId": "596e579b-5cfe-4ce8-f483-cf2f3706fe98"
      },
      "source": [
        "model.summary()"
      ],
      "execution_count": null,
      "outputs": [
        {
          "output_type": "stream",
          "text": [
            "Model: \"sequential_6\"\n",
            "_________________________________________________________________\n",
            "Layer (type)                 Output Shape              Param #   \n",
            "=================================================================\n",
            "1.Conv_O16 (Conv2D)          (None, 28, 28, 16)        160       \n",
            "_________________________________________________________________\n",
            "2.Activation1_ReLU (Activati (None, 28, 28, 16)        0         \n",
            "_________________________________________________________________\n",
            "3.Pooling_2x2 (MaxPooling2D) (None, 14, 14, 16)        0         \n",
            "_________________________________________________________________\n",
            "4.Conv_O16 (Conv2D)          (None, 14, 14, 16)        2320      \n",
            "_________________________________________________________________\n",
            "5.Activation2_ReLU (Activati (None, 14, 14, 16)        0         \n",
            "_________________________________________________________________\n",
            "6.Pooling_2x2 (MaxPooling2D) (None, 7, 7, 16)          0         \n",
            "_________________________________________________________________\n",
            "flatten_3 (Flatten)          (None, 784)               0         \n",
            "_________________________________________________________________\n",
            "dense_15 (Dense)             (None, 10)                7850      \n",
            "_________________________________________________________________\n",
            "8.Act3_Soft (Activation)     (None, 10)                0         \n",
            "=================================================================\n",
            "Total params: 10,330\n",
            "Trainable params: 10,330\n",
            "Non-trainable params: 0\n",
            "_________________________________________________________________\n"
          ],
          "name": "stdout"
        }
      ]
    },
    {
      "cell_type": "markdown",
      "metadata": {
        "id": "_F66ds58OTBu"
      },
      "source": [
        "Finally, we can train our CNN and check its performance on MNIST. "
      ]
    },
    {
      "cell_type": "code",
      "metadata": {
        "id": "BmeolsG_Pi8A",
        "colab": {
          "base_uri": "https://localhost:8080/"
        },
        "outputId": "61e8407b-8255-4f65-80b7-e9c003e4d3f5"
      },
      "source": [
        "# initiate RMSprop optimizer\n",
        "# Checks the optimization\n",
        "opt = RMSprop(lr=0.0001, decay=1e-6)\n",
        "\n",
        "# Comiles the model\n",
        "model.compile(loss='categorical_crossentropy',\n",
        "              optimizer=opt,\n",
        "              metrics=['accuracy'])\n",
        "\n",
        "print(\"Added compile loss\")"
      ],
      "execution_count": null,
      "outputs": [
        {
          "output_type": "stream",
          "text": [
            "Added compile loss\n"
          ],
          "name": "stdout"
        }
      ]
    },
    {
      "cell_type": "code",
      "metadata": {
        "colab": {
          "base_uri": "https://localhost:8080/"
        },
        "id": "FvKiDaSuMD-n",
        "outputId": "37e6d54a-61d7-45ef-f43a-4fc29eb62547"
      },
      "source": [
        "model.summary()\r\n",
        "\r\n",
        "print('Start Training')\r\n",
        "history=model.fit(x_train, y_train_class, batch_size=32, epochs=10,  verbose=1)\r\n",
        "\r\n",
        "score = model.evaluate(x_test, y_test_class, verbose=0)\r\n",
        "print('\\nTest loss:', score[0])\r\n",
        "print('Test accuracy:', score[1])"
      ],
      "execution_count": null,
      "outputs": [
        {
          "output_type": "stream",
          "text": [
            "Model: \"sequential_6\"\n",
            "_________________________________________________________________\n",
            "Layer (type)                 Output Shape              Param #   \n",
            "=================================================================\n",
            "1.Conv_O16 (Conv2D)          (None, 28, 28, 16)        160       \n",
            "_________________________________________________________________\n",
            "2.Activation1_ReLU (Activati (None, 28, 28, 16)        0         \n",
            "_________________________________________________________________\n",
            "3.Pooling_2x2 (MaxPooling2D) (None, 14, 14, 16)        0         \n",
            "_________________________________________________________________\n",
            "4.Conv_O16 (Conv2D)          (None, 14, 14, 16)        2320      \n",
            "_________________________________________________________________\n",
            "5.Activation2_ReLU (Activati (None, 14, 14, 16)        0         \n",
            "_________________________________________________________________\n",
            "6.Pooling_2x2 (MaxPooling2D) (None, 7, 7, 16)          0         \n",
            "_________________________________________________________________\n",
            "flatten (Flatten)            (None, 784)               0         \n",
            "_________________________________________________________________\n",
            "dense (Dense)                (None, 10)                7850      \n",
            "_________________________________________________________________\n",
            "8.Act3_Soft (Activation)     (None, 10)                0         \n",
            "=================================================================\n",
            "Total params: 10,330\n",
            "Trainable params: 10,330\n",
            "Non-trainable params: 0\n",
            "_________________________________________________________________\n",
            "Start Training\n",
            "Epoch 1/10\n",
            "1875/1875 [==============================] - 6s 3ms/step - loss: 1.4497 - accuracy: 0.6135\n",
            "Epoch 2/10\n",
            "1875/1875 [==============================] - 5s 3ms/step - loss: 0.3134 - accuracy: 0.9077\n",
            "Epoch 3/10\n",
            "1875/1875 [==============================] - 5s 3ms/step - loss: 0.2256 - accuracy: 0.9345\n",
            "Epoch 4/10\n",
            "1875/1875 [==============================] - 5s 3ms/step - loss: 0.1791 - accuracy: 0.9484\n",
            "Epoch 5/10\n",
            "1875/1875 [==============================] - 5s 3ms/step - loss: 0.1523 - accuracy: 0.9561\n",
            "Epoch 6/10\n",
            "1875/1875 [==============================] - 5s 3ms/step - loss: 0.1281 - accuracy: 0.9618\n",
            "Epoch 7/10\n",
            "1875/1875 [==============================] - 5s 3ms/step - loss: 0.1169 - accuracy: 0.9664\n",
            "Epoch 8/10\n",
            "1875/1875 [==============================] - 6s 3ms/step - loss: 0.1023 - accuracy: 0.9709\n",
            "Epoch 9/10\n",
            "1875/1875 [==============================] - 5s 3ms/step - loss: 0.0971 - accuracy: 0.9714\n",
            "Epoch 10/10\n",
            "1875/1875 [==============================] - 5s 3ms/step - loss: 0.0854 - accuracy: 0.9745\n",
            "Test loss: 0.07922714948654175\n",
            "Test accuracy: 0.9764000177383423\n"
          ],
          "name": "stdout"
        }
      ]
    },
    {
      "cell_type": "code",
      "metadata": {
        "colab": {
          "base_uri": "https://localhost:8080/",
          "height": 312
        },
        "id": "spGK0SMqQO9x",
        "outputId": "b49a7cf5-eb9e-470c-c7ed-61c403731385"
      },
      "source": [
        "# Plotting the data \r\n",
        "fig, axes = plt.subplots(2,1)\r\n",
        "axes[0].plot(history.history['accuracy'],'r') # print accuracy as red\r\n",
        "axes[0].set_title('Model Accuracy')\r\n",
        "axes[0].set_ylabel('Accuracy')\r\n",
        "axes[0].set_xlabel('Epoch')\r\n",
        "\r\n",
        "fig.subplots_adjust(hspace=0.8)\r\n",
        "axes[1].plot(history.history['loss'], 'g') # Print the loss in green\r\n",
        "axes[1].set_title('Model Loss')\r\n",
        "axes[1].set_ylabel('Cross Entropy Loss')\r\n",
        "axes[1].set_xlabel('Epoch')"
      ],
      "execution_count": null,
      "outputs": [
        {
          "output_type": "execute_result",
          "data": {
            "text/plain": [
              "Text(0.5, 0, 'Epoch')"
            ]
          },
          "metadata": {
            "tags": []
          },
          "execution_count": 53
        },
        {
          "output_type": "display_data",
          "data": {
            "image/png": "[encoded data removed]",
            "text/plain": [
              "<Figure size 432x288 with 2 Axes>"
            ]
          },
          "metadata": {
            "tags": [],
            "needs_background": "light"
          }
        }
      ]
    },
    {
      "cell_type": "markdown",
      "metadata": {
        "id": "Q0ZorPBtpLlZ"
      },
      "source": [
        "# Coursework\n"
      ]
    },
    {
      "cell_type": "markdown",
      "metadata": {
        "id": "2gkM3dPZbNcX"
      },
      "source": [
        "## Task 1: Classification\n",
        "\n",
        "At this point, we know what is a CNN, how they work, and the components needed to design them. In this first task, we want you to create a CNN that is able to outperform the Multi-layer Perceptron model from Tutorial 1. For the first part of the coursework, we train on CIFAR10, a  classical dataset for image classification. Let's first load the dataset and visualise some examples:"
      ]
    },
    {
      "cell_type": "code",
      "metadata": {
        "id": "zKWvv0VwZPH3",
        "colab": {
          "base_uri": "https://localhost:8080/"
        },
        "outputId": "cfa11a2c-c773-4044-f067-b8b048dc726e"
      },
      "source": [
        "import matplotlib.pyplot as plt\n",
        "import numpy as np\n",
        "import tensorflow as tf\n",
        "tf.compat.v1.logging.set_verbosity(tf.compat.v1.logging.ERROR)\n",
        "from keras.models import Sequential\n",
        "from keras.layers import Dense, Dropout, Activation\n",
        "from keras.utils import np_utils\n",
        "from keras.datasets import cifar10\n",
        "from keras.optimizers import RMSprop\n",
        "\n",
        "# the data, shuffled and split between train and test sets\n",
        "(X_train, y_train), (X_test, y_test) = cifar10.load_data()\n",
        "\n",
        "# Print the shape of the samples \n",
        "print('Image shape: {0}'.format(X_train.shape[1:]))\n",
        "print('Total number of training samples: {0}'.format(X_train.shape[0]))\n",
        "print('Total number of test samples: {0}'.format(X_test.shape[0]))\n"
      ],
      "execution_count": null,
      "outputs": [
        {
          "output_type": "stream",
          "text": [
            "Downloading data from https://www.cs.toronto.edu/~kriz/cifar-10-python.tar.gz\n",
            "170500096/170498071 [==============================] - 2s 0us/step\n",
            "Image shape: (32, 32, 3)\n",
            "Total number of training samples: 50000\n",
            "Total number of test samples: 10000\n"
          ],
          "name": "stdout"
        }
      ]
    },
    {
      "cell_type": "code",
      "metadata": {
        "colab": {
          "base_uri": "https://localhost:8080/",
          "height": 267
        },
        "id": "NN7mE_-TFk9u",
        "outputId": "b963f273-8a45-4b07-bba5-49e5fc0845cb"
      },
      "source": [
        "# Let's visualize some examples\r\n",
        "N=5\r\n",
        "start_val = 0 # pick an element for the code to plot the following N**2 values\r\n",
        "fig, axes = plt.subplots(N,N)\r\n",
        "items = list(range(0, 10))\r\n",
        "for row in range(N):\r\n",
        "  for col in range(N):\r\n",
        "    idx = start_val+row+N*col\r\n",
        "    axes[row,col].imshow(X_train[idx], cmap='gray')\r\n",
        "    fig.subplots_adjust(hspace=0.5)\r\n",
        "    y_target = int(y_train[idx])\r\n",
        "    target = str(items[y_target])\r\n",
        "    axes[row,col].set_title(target)\r\n",
        "    axes[row,col].set_xticks([])\r\n",
        "    axes[row,col].set_yticks([])"
      ],
      "execution_count": null,
      "outputs": [
        {
          "output_type": "display_data",
          "data": {
            "image/png": "[encoded data removed]",
            "text/plain": [
              "<Figure size 432x288 with 25 Axes>"
            ]
          },
          "metadata": {
            "tags": []
          }
        }
      ]
    },
    {
      "cell_type": "markdown",
      "metadata": {
        "id": "-p9uVP3pccOW"
      },
      "source": [
        "CIFAR10 contains 50,000 32x32 color training images, labeled over 10 categories and 10,000 test images. We need to preprocess the images for the 1D neural network defined in the previous tutorial:"
      ]
    },
    {
      "cell_type": "code",
      "metadata": {
        "id": "bFurVCqpclnm",
        "colab": {
          "base_uri": "https://localhost:8080/"
        },
        "outputId": "5115db84-471a-429c-ec5d-f7d8c0c078eb"
      },
      "source": [
        "# Preprocess dataset for a 1D neural network\n",
        "# \n",
        "X_train = X_train.astype('float32')\n",
        "X_test = X_test.astype('float32')\n",
        "\n",
        "# Normalize the image size\n",
        "X_train /= 255\n",
        "X_test /= 255\n",
        "\n",
        "# Flatten the data\n",
        "X_train_flatten = X_train.reshape(X_train.shape[0], X_train.shape[1] * X_train.shape[2]*3)\n",
        "X_test_flatten = X_test.reshape(X_test.shape[0], X_test.shape[1] * X_test.shape[2]*3)\n",
        "\n",
        "\n",
        "print('New X_train shape: {0}'.format(X_train_flatten.shape))\n",
        "\n",
        "Y_train_class = np_utils.to_categorical(y_train, 10)\n",
        "Y_test_class = np_utils.to_categorical(y_test, 10)\n",
        "\n",
        "print('New Y_train shape: {0}'.format(Y_train_class.shape))\n"
      ],
      "execution_count": null,
      "outputs": [
        {
          "output_type": "stream",
          "text": [
            "New X_train shape: (50000, 3072)\n",
            "New Y_train shape: (50000, 10)\n"
          ],
          "name": "stdout"
        }
      ]
    },
    {
      "cell_type": "markdown",
      "metadata": {
        "id": "mxFx2s3Fc6wM"
      },
      "source": [
        "Now, we are ready to define the Multi-layer Perceptron model and train it."
      ]
    },
    {
      "cell_type": "code",
      "metadata": {
        "id": "KEZW-1pxbKlC",
        "colab": {
          "base_uri": "https://localhost:8080/",
          "height": 814
        },
        "outputId": "243b7774-3f6a-43fd-a68f-8eba30f59b6c"
      },
      "source": [
        "model = Sequential()\n",
        "\n",
        "model.add(Dense(32, activation='relu', input_shape=(X_train_flatten.shape[1:])))\n",
        "model.add(Dense(64, activation='relu'))\n",
        "model.add(Dense(128, activation='relu'))\n",
        "model.add(Dense(256, activation='relu'))\n",
        "model.add(Dense(512, activation='relu'))\n",
        "model.add(Dense(10, activation='softmax'))\n",
        "\n",
        "model.summary()\n",
        "\n",
        "# initiate RMSprop optimizer\n",
        "opt = RMSprop(lr=0.0001, decay=1e-6)\n",
        "\n",
        "# Let's train the model using RMSprop\n",
        "model.compile(loss='categorical_crossentropy',\n",
        "              optimizer=opt,\n",
        "              metrics=['accuracy'])\n",
        "\n",
        "model.fit(X_train_flatten, Y_train_class, batch_size=32, epochs=20,verbose=1)\n",
        "\n",
        "score = model.evaluate(X_test_flatten, Y_test_class, verbose=0)\n",
        "print('Test loss:', score[0])\n",
        "print('Test accuracy:', score[1])"
      ],
      "execution_count": null,
      "outputs": [
        {
          "output_type": "stream",
          "text": [
            "Model: \"sequential_1\"\n",
            "_________________________________________________________________\n",
            "Layer (type)                 Output Shape              Param #   \n",
            "=================================================================\n",
            "dense_3 (Dense)              (None, 32)                98336     \n",
            "_________________________________________________________________\n",
            "dense_4 (Dense)              (None, 64)                2112      \n",
            "_________________________________________________________________\n",
            "dense_5 (Dense)              (None, 128)               8320      \n",
            "_________________________________________________________________\n",
            "dense_6 (Dense)              (None, 256)               33024     \n",
            "_________________________________________________________________\n",
            "dense_7 (Dense)              (None, 512)               131584    \n",
            "_________________________________________________________________\n",
            "dense_8 (Dense)              (None, 10)                5130      \n",
            "=================================================================\n",
            "Total params: 278,506\n",
            "Trainable params: 278,506\n",
            "Non-trainable params: 0\n",
            "_________________________________________________________________\n",
            "Epoch 1/20\n",
            "1563/1563 [==============================] - 6s 4ms/step - loss: 2.0344 - accuracy: 0.2499\n",
            "Epoch 2/20\n",
            "1192/1563 [=====================>........] - ETA: 1s - loss: 1.7600 - accuracy: 0.3608"
          ],
          "name": "stdout"
        },
        {
          "output_type": "error",
          "ename": "KeyboardInterrupt",
          "evalue": "ignored",
          "traceback": [
            "\u001b[0;31m---------------------------------------------------------------------------\u001b[0m",
            "\u001b[0;31mKeyboardInterrupt\u001b[0m                         Traceback (most recent call last)",
            "\u001b[0;32m<ipython-input-60-953fc7cb67a8>\u001b[0m in \u001b[0;36m<module>\u001b[0;34m()\u001b[0m\n\u001b[1;32m     18\u001b[0m               metrics=['accuracy'])\n\u001b[1;32m     19\u001b[0m \u001b[0;34m\u001b[0m\u001b[0m\n\u001b[0;32m---> 20\u001b[0;31m \u001b[0mmodel\u001b[0m\u001b[0;34m.\u001b[0m\u001b[0mfit\u001b[0m\u001b[0;34m(\u001b[0m\u001b[0mX_train_flatten\u001b[0m\u001b[0;34m,\u001b[0m \u001b[0mY_train_class\u001b[0m\u001b[0;34m,\u001b[0m \u001b[0mbatch_size\u001b[0m\u001b[0;34m=\u001b[0m\u001b[0;36m32\u001b[0m\u001b[0;34m,\u001b[0m \u001b[0mepochs\u001b[0m\u001b[0;34m=\u001b[0m\u001b[0;36m20\u001b[0m\u001b[0;34m,\u001b[0m\u001b[0mverbose\u001b[0m\u001b[0;34m=\u001b[0m\u001b[0;36m1\u001b[0m\u001b[0;34m)\u001b[0m\u001b[0;34m\u001b[0m\u001b[0;34m\u001b[0m\u001b[0m\n\u001b[0m\u001b[1;32m     21\u001b[0m \u001b[0;34m\u001b[0m\u001b[0m\n\u001b[1;32m     22\u001b[0m \u001b[0mscore\u001b[0m \u001b[0;34m=\u001b[0m \u001b[0mmodel\u001b[0m\u001b[0;34m.\u001b[0m\u001b[0mevaluate\u001b[0m\u001b[0;34m(\u001b[0m\u001b[0mX_test_flatten\u001b[0m\u001b[0;34m,\u001b[0m \u001b[0mY_test_class\u001b[0m\u001b[0;34m,\u001b[0m \u001b[0mverbose\u001b[0m\u001b[0;34m=\u001b[0m\u001b[0;36m0\u001b[0m\u001b[0;34m)\u001b[0m\u001b[0;34m\u001b[0m\u001b[0;34m\u001b[0m\u001b[0m\n",
            "\u001b[0;32m/usr/local/lib/python3.6/dist-packages/tensorflow/python/keras/engine/training.py\u001b[0m in \u001b[0;36mfit\u001b[0;34m(self, x, y, batch_size, epochs, verbose, callbacks, validation_split, validation_data, shuffle, class_weight, sample_weight, initial_epoch, steps_per_epoch, validation_steps, validation_batch_size, validation_freq, max_queue_size, workers, use_multiprocessing)\u001b[0m\n\u001b[1;32m   1098\u001b[0m                 _r=1):\n\u001b[1;32m   1099\u001b[0m               \u001b[0mcallbacks\u001b[0m\u001b[0;34m.\u001b[0m\u001b[0mon_train_batch_begin\u001b[0m\u001b[0;34m(\u001b[0m\u001b[0mstep\u001b[0m\u001b[0;34m)\u001b[0m\u001b[0;34m\u001b[0m\u001b[0;34m\u001b[0m\u001b[0m\n\u001b[0;32m-> 1100\u001b[0;31m               \u001b[0mtmp_logs\u001b[0m \u001b[0;34m=\u001b[0m \u001b[0mself\u001b[0m\u001b[0;34m.\u001b[0m\u001b[0mtrain_function\u001b[0m\u001b[0;34m(\u001b[0m\u001b[0miterator\u001b[0m\u001b[0;34m)\u001b[0m\u001b[0;34m\u001b[0m\u001b[0;34m\u001b[0m\u001b[0m\n\u001b[0m\u001b[1;32m   1101\u001b[0m               \u001b[0;32mif\u001b[0m \u001b[0mdata_handler\u001b[0m\u001b[0;34m.\u001b[0m\u001b[0mshould_sync\u001b[0m\u001b[0;34m:\u001b[0m\u001b[0;34m\u001b[0m\u001b[0;34m\u001b[0m\u001b[0m\n\u001b[1;32m   1102\u001b[0m                 \u001b[0mcontext\u001b[0m\u001b[0;34m.\u001b[0m\u001b[0masync_wait\u001b[0m\u001b[0;34m(\u001b[0m\u001b[0;34m)\u001b[0m\u001b[0;34m\u001b[0m\u001b[0;34m\u001b[0m\u001b[0m\n",
            "\u001b[0;32m/usr/local/lib/python3.6/dist-packages/tensorflow/python/eager/def_function.py\u001b[0m in \u001b[0;36m__call__\u001b[0;34m(self, *args, **kwds)\u001b[0m\n\u001b[1;32m    826\u001b[0m     \u001b[0mtracing_count\u001b[0m \u001b[0;34m=\u001b[0m \u001b[0mself\u001b[0m\u001b[0;34m.\u001b[0m\u001b[0mexperimental_get_tracing_count\u001b[0m\u001b[0;34m(\u001b[0m\u001b[0;34m)\u001b[0m\u001b[0;34m\u001b[0m\u001b[0;34m\u001b[0m\u001b[0m\n\u001b[1;32m    827\u001b[0m     \u001b[0;32mwith\u001b[0m \u001b[0mtrace\u001b[0m\u001b[0;34m.\u001b[0m\u001b[0mTrace\u001b[0m\u001b[0;34m(\u001b[0m\u001b[0mself\u001b[0m\u001b[0;34m.\u001b[0m\u001b[0m_name\u001b[0m\u001b[0;34m)\u001b[0m \u001b[0;32mas\u001b[0m \u001b[0mtm\u001b[0m\u001b[0;34m:\u001b[0m\u001b[0;34m\u001b[0m\u001b[0;34m\u001b[0m\u001b[0m\n\u001b[0;32m--> 828\u001b[0;31m       \u001b[0mresult\u001b[0m \u001b[0;34m=\u001b[0m \u001b[0mself\u001b[0m\u001b[0;34m.\u001b[0m\u001b[0m_call\u001b[0m\u001b[0;34m(\u001b[0m\u001b[0;34m*\u001b[0m\u001b[0margs\u001b[0m\u001b[0;34m,\u001b[0m \u001b[0;34m**\u001b[0m\u001b[0mkwds\u001b[0m\u001b[0;34m)\u001b[0m\u001b[0;34m\u001b[0m\u001b[0;34m\u001b[0m\u001b[0m\n\u001b[0m\u001b[1;32m    829\u001b[0m       \u001b[0mcompiler\u001b[0m \u001b[0;34m=\u001b[0m \u001b[0;34m\"xla\"\u001b[0m \u001b[0;32mif\u001b[0m \u001b[0mself\u001b[0m\u001b[0;34m.\u001b[0m\u001b[0m_experimental_compile\u001b[0m \u001b[0;32melse\u001b[0m \u001b[0;34m\"nonXla\"\u001b[0m\u001b[0;34m\u001b[0m\u001b[0;34m\u001b[0m\u001b[0m\n\u001b[1;32m    830\u001b[0m       \u001b[0mnew_tracing_count\u001b[0m \u001b[0;34m=\u001b[0m \u001b[0mself\u001b[0m\u001b[0;34m.\u001b[0m\u001b[0mexperimental_get_tracing_count\u001b[0m\u001b[0;34m(\u001b[0m\u001b[0;34m)\u001b[0m\u001b[0;34m\u001b[0m\u001b[0;34m\u001b[0m\u001b[0m\n",
            "\u001b[0;32m/usr/local/lib/python3.6/dist-packages/tensorflow/python/eager/def_function.py\u001b[0m in \u001b[0;36m_call\u001b[0;34m(self, *args, **kwds)\u001b[0m\n\u001b[1;32m    853\u001b[0m       \u001b[0;31m# In this case we have created variables on the first call, so we run the\u001b[0m\u001b[0;34m\u001b[0m\u001b[0;34m\u001b[0m\u001b[0;34m\u001b[0m\u001b[0m\n\u001b[1;32m    854\u001b[0m       \u001b[0;31m# defunned version which is guaranteed to never create variables.\u001b[0m\u001b[0;34m\u001b[0m\u001b[0;34m\u001b[0m\u001b[0;34m\u001b[0m\u001b[0m\n\u001b[0;32m--> 855\u001b[0;31m       \u001b[0;32mreturn\u001b[0m \u001b[0mself\u001b[0m\u001b[0;34m.\u001b[0m\u001b[0m_stateless_fn\u001b[0m\u001b[0;34m(\u001b[0m\u001b[0;34m*\u001b[0m\u001b[0margs\u001b[0m\u001b[0;34m,\u001b[0m \u001b[0;34m**\u001b[0m\u001b[0mkwds\u001b[0m\u001b[0;34m)\u001b[0m  \u001b[0;31m# pylint: disable=not-callable\u001b[0m\u001b[0;34m\u001b[0m\u001b[0;34m\u001b[0m\u001b[0m\n\u001b[0m\u001b[1;32m    856\u001b[0m     \u001b[0;32melif\u001b[0m \u001b[0mself\u001b[0m\u001b[0;34m.\u001b[0m\u001b[0m_stateful_fn\u001b[0m \u001b[0;32mis\u001b[0m \u001b[0;32mnot\u001b[0m \u001b[0;32mNone\u001b[0m\u001b[0;34m:\u001b[0m\u001b[0;34m\u001b[0m\u001b[0;34m\u001b[0m\u001b[0m\n\u001b[1;32m    857\u001b[0m       \u001b[0;31m# Release the lock early so that multiple threads can perform the call\u001b[0m\u001b[0;34m\u001b[0m\u001b[0;34m\u001b[0m\u001b[0;34m\u001b[0m\u001b[0m\n",
            "\u001b[0;32m/usr/local/lib/python3.6/dist-packages/tensorflow/python/eager/function.py\u001b[0m in \u001b[0;36m__call__\u001b[0;34m(self, *args, **kwargs)\u001b[0m\n\u001b[1;32m   2941\u001b[0m        filtered_flat_args) = self._maybe_define_function(args, kwargs)\n\u001b[1;32m   2942\u001b[0m     return graph_function._call_flat(\n\u001b[0;32m-> 2943\u001b[0;31m         filtered_flat_args, captured_inputs=graph_function.captured_inputs)  # pylint: disable=protected-access\n\u001b[0m\u001b[1;32m   2944\u001b[0m \u001b[0;34m\u001b[0m\u001b[0m\n\u001b[1;32m   2945\u001b[0m   \u001b[0;34m@\u001b[0m\u001b[0mproperty\u001b[0m\u001b[0;34m\u001b[0m\u001b[0;34m\u001b[0m\u001b[0m\n",
            "\u001b[0;32m/usr/local/lib/python3.6/dist-packages/tensorflow/python/eager/function.py\u001b[0m in \u001b[0;36m_call_flat\u001b[0;34m(self, args, captured_inputs, cancellation_manager)\u001b[0m\n\u001b[1;32m   1917\u001b[0m       \u001b[0;31m# No tape is watching; skip to running the function.\u001b[0m\u001b[0;34m\u001b[0m\u001b[0;34m\u001b[0m\u001b[0;34m\u001b[0m\u001b[0m\n\u001b[1;32m   1918\u001b[0m       return self._build_call_outputs(self._inference_function.call(\n\u001b[0;32m-> 1919\u001b[0;31m           ctx, args, cancellation_manager=cancellation_manager))\n\u001b[0m\u001b[1;32m   1920\u001b[0m     forward_backward = self._select_forward_and_backward_functions(\n\u001b[1;32m   1921\u001b[0m         \u001b[0margs\u001b[0m\u001b[0;34m,\u001b[0m\u001b[0;34m\u001b[0m\u001b[0;34m\u001b[0m\u001b[0m\n",
            "\u001b[0;32m/usr/local/lib/python3.6/dist-packages/tensorflow/python/eager/function.py\u001b[0m in \u001b[0;36mcall\u001b[0;34m(self, ctx, args, cancellation_manager)\u001b[0m\n\u001b[1;32m    558\u001b[0m               \u001b[0minputs\u001b[0m\u001b[0;34m=\u001b[0m\u001b[0margs\u001b[0m\u001b[0;34m,\u001b[0m\u001b[0;34m\u001b[0m\u001b[0;34m\u001b[0m\u001b[0m\n\u001b[1;32m    559\u001b[0m               \u001b[0mattrs\u001b[0m\u001b[0;34m=\u001b[0m\u001b[0mattrs\u001b[0m\u001b[0;34m,\u001b[0m\u001b[0;34m\u001b[0m\u001b[0;34m\u001b[0m\u001b[0m\n\u001b[0;32m--> 560\u001b[0;31m               ctx=ctx)\n\u001b[0m\u001b[1;32m    561\u001b[0m         \u001b[0;32melse\u001b[0m\u001b[0;34m:\u001b[0m\u001b[0;34m\u001b[0m\u001b[0;34m\u001b[0m\u001b[0m\n\u001b[1;32m    562\u001b[0m           outputs = execute.execute_with_cancellation(\n",
            "\u001b[0;32m/usr/local/lib/python3.6/dist-packages/tensorflow/python/eager/execute.py\u001b[0m in \u001b[0;36mquick_execute\u001b[0;34m(op_name, num_outputs, inputs, attrs, ctx, name)\u001b[0m\n\u001b[1;32m     58\u001b[0m     \u001b[0mctx\u001b[0m\u001b[0;34m.\u001b[0m\u001b[0mensure_initialized\u001b[0m\u001b[0;34m(\u001b[0m\u001b[0;34m)\u001b[0m\u001b[0;34m\u001b[0m\u001b[0;34m\u001b[0m\u001b[0m\n\u001b[1;32m     59\u001b[0m     tensors = pywrap_tfe.TFE_Py_Execute(ctx._handle, device_name, op_name,\n\u001b[0;32m---> 60\u001b[0;31m                                         inputs, attrs, num_outputs)\n\u001b[0m\u001b[1;32m     61\u001b[0m   \u001b[0;32mexcept\u001b[0m \u001b[0mcore\u001b[0m\u001b[0;34m.\u001b[0m\u001b[0m_NotOkStatusException\u001b[0m \u001b[0;32mas\u001b[0m \u001b[0me\u001b[0m\u001b[0;34m:\u001b[0m\u001b[0;34m\u001b[0m\u001b[0;34m\u001b[0m\u001b[0m\n\u001b[1;32m     62\u001b[0m     \u001b[0;32mif\u001b[0m \u001b[0mname\u001b[0m \u001b[0;32mis\u001b[0m \u001b[0;32mnot\u001b[0m \u001b[0;32mNone\u001b[0m\u001b[0;34m:\u001b[0m\u001b[0;34m\u001b[0m\u001b[0;34m\u001b[0m\u001b[0m\n",
            "\u001b[0;31mKeyboardInterrupt\u001b[0m: "
          ]
        }
      ]
    },
    {
      "cell_type": "markdown",
      "metadata": {
        "id": "CEuYNmyHlVJd"
      },
      "source": [
        "### Problem Definition\n",
        "\n",
        "In this exercise, you are asked to test several CNN architectures in the code provided below. Do not modify the optimizer, loss used or parameters related to the training such as the learning rate, they will be investigated in future tutorials. You must focus on the architecture itself: number of convolutional layers, number of filters in every layer, activation functions, pooling operators, among others. Batch Normalization and Dropout layers, which are quite used in CNN architectures, will be also investigated in a future tutorial so you do not have to discuss them.\n",
        "\n",
        "\n",
        "**Report**:\n",
        "*   Present a bar figure with the test and training accuracies for different design choices. Discuss only the parameters that have a significant influence on the network's performance. Explain any discrepancy between training and test accuracies.\n",
        "*   Present a sketch that introduces your best architecture. See some examples on how to display networks in [cv-tricks' blog](https://cv-tricks.com/cnn/understand-resnet-alexnet-vgg-inception/).\n"
      ]
    },
    {
      "cell_type": "code",
      "metadata": {
        "colab": {
          "base_uri": "https://localhost:8080/"
        },
        "id": "MOlM-aiA-JCz",
        "outputId": "1446b2f5-b70b-485c-fbe3-f457354b58cb"
      },
      "source": [
        "!nvidia-smi"
      ],
      "execution_count": null,
      "outputs": [
        {
          "output_type": "stream",
          "text": [
            "Fri Feb  5 10:12:50 2021       \n",
            "+-----------------------------------------------------------------------------+\n",
            "| NVIDIA-SMI 460.39       Driver Version: 418.67       CUDA Version: 10.1     |\n",
            "|-------------------------------+----------------------+----------------------+\n",
            "| GPU  Name        Persistence-M| Bus-Id        Disp.A | Volatile Uncorr. ECC |\n",
            "| Fan  Temp  Perf  Pwr:Usage/Cap|         Memory-Usage | GPU-Util  Compute M. |\n",
            "|                               |                      |               MIG M. |\n",
            "|===============================+======================+======================|\n",
            "|   0  Tesla T4            Off  | 00000000:00:04.0 Off |                    0 |\n",
            "| N/A   39C    P8     9W /  70W |      0MiB / 15079MiB |      0%      Default |\n",
            "|                               |                      |                 ERR! |\n",
            "+-------------------------------+----------------------+----------------------+\n",
            "                                                                               \n",
            "+-----------------------------------------------------------------------------+\n",
            "| Processes:                                                                  |\n",
            "|  GPU   GI   CI        PID   Type   Process name                  GPU Memory |\n",
            "|        ID   ID                                                   Usage      |\n",
            "|=============================================================================|\n",
            "|  No running processes found                                                 |\n",
            "+-----------------------------------------------------------------------------+\n"
          ],
          "name": "stdout"
        }
      ]
    },
    {
      "cell_type": "code",
      "metadata": {
        "id": "r8ATD38dDM1q",
        "colab": {
          "base_uri": "https://localhost:8080/"
        },
        "outputId": "8118bcc0-defa-4f7f-c3c1-ecd98cf053c4"
      },
      "source": [
        "import tensorflow as tf\n",
        "tf.compat.v1.logging.set_verbosity(tf.compat.v1.logging.ERROR)\n",
        "from keras.models import Sequential\n",
        "from keras.layers import Dense, Activation\n",
        "from keras.utils import np_utils\n",
        "from keras.datasets import cifar10\n",
        "from keras.optimizers import RMSprop\n",
        "from keras.layers import Conv2D, MaxPooling2D, Flatten, AveragePooling2D, Dropout, LeakyReLU\n",
        "from keras import layers\n",
        "import matplotlib.pyplot as plt\n",
        "\n",
        "# the data, shuffled and split between train and val sets\n",
        "# Here we are using the official test set as our validation set, in further\n",
        "# tutorials, test and validation splits will be explained properly.\n",
        "(x_train, y_train), (x_test, y_test) = cifar10.load_data()\n",
        "\n",
        "x_train = x_train.astype('float32')\n",
        "x_test = x_test.astype('float32')\n",
        "\n",
        "# Normalize the image\n",
        "x_train /= 255\n",
        "x_test /= 255\n",
        "\n",
        "y_train_class = np_utils.to_categorical(y_train, 10)\n",
        "y_test_class = np_utils.to_categorical(y_test, 10)\n",
        "\n",
        "print('Image shape: {0}'.format(x_train.shape[1:]))\n",
        "print('Total number of training samples: {0}'.format(x_train.shape[0]))\n",
        "print('Total number of test samples: {0}'.format(x_test.shape[0]))\n"
      ],
      "execution_count": null,
      "outputs": [
        {
          "output_type": "stream",
          "text": [
            "Downloading data from https://www.cs.toronto.edu/~kriz/cifar-10-python.tar.gz\n",
            "170500096/170498071 [==============================] - 2s 0us/step\n",
            "Image shape: (32, 32, 3)\n",
            "Total number of training samples: 50000\n",
            "Total number of test samples: 10000\n"
          ],
          "name": "stdout"
        }
      ]
    },
    {
      "cell_type": "code",
      "metadata": {
        "id": "dhm1aUD-qxqm"
      },
      "source": [
        "def load_model_LeNet5_Class():\r\n",
        "    # . . . \r\n",
        "    nb_filter =64\r\n",
        "    kernal_size=(5,5)\r\n",
        "    pool_size=(2,2)\r\n",
        "    # . . . \r\n",
        "\r\n",
        "    model.add(Conv2D(6, kernal_size, input_shape=x_train.shape[1:]))\r\n",
        "    model.add(Activation('relu'))\r\n",
        "    model.add(AveragePooling2D(pool_size))\r\n",
        "\r\n",
        "\r\n",
        "    model.add(Conv2D(16, kernal_size))\r\n",
        "    model.add(Activation('relu'))\r\n",
        "    model.add(AveragePooling2D(pool_size))\r\n",
        "\r\n",
        "    model.add(Flatten())\r\n",
        "\r\n",
        "    model.add(Dense(120))\r\n",
        "    model.add(Activation('relu'))\r\n",
        "\r\n",
        "    model.add(Dense(84))\r\n",
        "    model.add(Activation('relu'))\r\n",
        "\r\n",
        "    model.add(Dense(10))\r\n",
        "    model.add(Activation('softmax'))"
      ],
      "execution_count": null,
      "outputs": []
    },
    {
      "cell_type": "code",
      "metadata": {
        "id": "t3C88E9Hq8Gb"
      },
      "source": [
        "def load_model_VGG5_Class():\r\n",
        "  nb_filter = 128\r\n",
        "  kernal_size=(3,3)\r\n",
        "  pool_size=(2,2)\r\n",
        "  leaky_alpha=0.05\r\n",
        "  print('Input shape: {0}'.format(x_train.shape[1:]))\r\n",
        "\r\n",
        "\r\n",
        "  model.add(Conv2D(nb_filter, kernal_size, padding='same', strides=(1, 1), input_shape=x_train.shape[1:]))\r\n",
        "  model.add(Activation('relu'))\r\n",
        "  model.add(Conv2D(nb_filter, kernal_size, padding='same', strides=(1, 1)))\r\n",
        "  model.add(Activation('relu'))\r\n",
        "  model.add(AveragePooling2D(pool_size))\r\n",
        "\r\n",
        "\r\n",
        "  model.add(Conv2D(nb_filter*2, kernal_size, padding='same', strides=(1, 1)))\r\n",
        "  model.add(Activation('relu'))\r\n",
        "  model.add(Conv2D(nb_filter*2, kernal_size, padding='same', strides=(1, 1)))\r\n",
        "  model.add(Activation('relu'))\r\n",
        "  model.add(AveragePooling2D(pool_size))\r\n",
        "\r\n",
        "\r\n",
        "  model.add(Flatten())\r\n",
        "\r\n",
        "  model.add(Dense(10))\r\n",
        "  model.add(Activation('softmax'))"
      ],
      "execution_count": null,
      "outputs": []
    },
    {
      "cell_type": "code",
      "metadata": {
        "colab": {
          "base_uri": "https://localhost:8080/"
        },
        "id": "s2t9PUeaHXab",
        "outputId": "83c3f6cd-84c0-4964-882e-07edf1c16cdb"
      },
      "source": [
        "# . . . \r\n",
        "# Personal Code\r\n",
        "tf.keras.backend.clear_session()\r\n",
        "# sequential model\r\n",
        "model = Sequential()\r\n",
        "\r\n",
        "load_model_VGG5_Class()\r\n",
        "# load_model_LeNet5_Class()\r\n",
        "\r\n",
        "# Activation function which converts the results into 0 -> 1 (which each sec)\r\n",
        "# . . . \r\n",
        "\r\n",
        "model.summary()"
      ],
      "execution_count": null,
      "outputs": [
        {
          "output_type": "stream",
          "text": [
            "Input shape: (32, 32, 3)\n",
            "Model: \"sequential\"\n",
            "_________________________________________________________________\n",
            "Layer (type)                 Output Shape              Param #   \n",
            "=================================================================\n",
            "conv2d (Conv2D)              (None, 32, 32, 128)       3584      \n",
            "_________________________________________________________________\n",
            "activation (Activation)      (None, 32, 32, 128)       0         \n",
            "_________________________________________________________________\n",
            "conv2d_1 (Conv2D)            (None, 32, 32, 128)       147584    \n",
            "_________________________________________________________________\n",
            "activation_1 (Activation)    (None, 32, 32, 128)       0         \n",
            "_________________________________________________________________\n",
            "average_pooling2d (AveragePo (None, 16, 16, 128)       0         \n",
            "_________________________________________________________________\n",
            "conv2d_2 (Conv2D)            (None, 16, 16, 256)       295168    \n",
            "_________________________________________________________________\n",
            "activation_2 (Activation)    (None, 16, 16, 256)       0         \n",
            "_________________________________________________________________\n",
            "conv2d_3 (Conv2D)            (None, 16, 16, 256)       590080    \n",
            "_________________________________________________________________\n",
            "activation_3 (Activation)    (None, 16, 16, 256)       0         \n",
            "_________________________________________________________________\n",
            "average_pooling2d_1 (Average (None, 8, 8, 256)         0         \n",
            "_________________________________________________________________\n",
            "flatten (Flatten)            (None, 16384)             0         \n",
            "_________________________________________________________________\n",
            "dense (Dense)                (None, 10)                163850    \n",
            "_________________________________________________________________\n",
            "activation_4 (Activation)    (None, 10)                0         \n",
            "=================================================================\n",
            "Total params: 1,200,266\n",
            "Trainable params: 1,200,266\n",
            "Non-trainable params: 0\n",
            "_________________________________________________________________\n"
          ],
          "name": "stdout"
        }
      ]
    },
    {
      "cell_type": "code",
      "metadata": {
        "id": "eDz5S11fHcL0",
        "colab": {
          "base_uri": "https://localhost:8080/"
        },
        "outputId": "27679a65-99ef-4662-d2dc-6a1d9e22e6bb"
      },
      "source": [
        "# initiate RMSprop optimizer\r\n",
        "opt = RMSprop(lr=0.0001, decay=1e-6)\r\n",
        "\r\n",
        "model.compile(loss='categorical_crossentropy', \r\n",
        "              optimizer=opt, \r\n",
        "              metrics=['accuracy'])\r\n",
        "\r\n",
        "history = model.fit(x_train, y_train_class, batch_size=32, epochs=20,verbose=1)\r\n",
        "\r\n",
        "score = model.evaluate(x_test, y_test_class, verbose=0)\r\n",
        "print('Test loss:', score[0])\r\n",
        "print('Test accuracy:', score[1])"
      ],
      "execution_count": null,
      "outputs": [
        {
          "output_type": "stream",
          "text": [
            "Epoch 1/20\n",
            "1563/1563 [==============================] - 11s 7ms/step - loss: 1.8681 - accuracy: 0.3234\n",
            "Epoch 2/20\n",
            "1563/1563 [==============================] - 10s 6ms/step - loss: 1.4582 - accuracy: 0.4766\n",
            "Epoch 3/20\n",
            "1563/1563 [==============================] - 10s 6ms/step - loss: 1.2972 - accuracy: 0.5405\n",
            "Epoch 4/20\n",
            "1563/1563 [==============================] - 10s 7ms/step - loss: 1.1834 - accuracy: 0.5840\n",
            "Epoch 5/20\n",
            "1563/1563 [==============================] - 10s 6ms/step - loss: 1.1137 - accuracy: 0.6095\n",
            "Epoch 6/20\n",
            "1563/1563 [==============================] - 10s 6ms/step - loss: 1.0452 - accuracy: 0.6355\n",
            "Epoch 7/20\n",
            "1563/1563 [==============================] - 10s 6ms/step - loss: 0.9873 - accuracy: 0.6569\n",
            "Epoch 8/20\n",
            "1563/1563 [==============================] - 10s 6ms/step - loss: 0.9467 - accuracy: 0.6707\n",
            "Epoch 9/20\n",
            "1563/1563 [==============================] - 10s 6ms/step - loss: 0.8973 - accuracy: 0.6896\n",
            "Epoch 10/20\n",
            "1563/1563 [==============================] - 10s 7ms/step - loss: 0.8606 - accuracy: 0.7013\n",
            "Epoch 11/20\n",
            "1563/1563 [==============================] - 10s 7ms/step - loss: 0.8236 - accuracy: 0.7132\n",
            "Epoch 12/20\n",
            "1563/1563 [==============================] - 10s 7ms/step - loss: 0.7887 - accuracy: 0.7279\n",
            "Epoch 13/20\n",
            "1563/1563 [==============================] - 10s 6ms/step - loss: 0.7625 - accuracy: 0.7357\n",
            "Epoch 14/20\n",
            "1563/1563 [==============================] - 10s 7ms/step - loss: 0.7416 - accuracy: 0.7427\n",
            "Epoch 15/20\n",
            "1563/1563 [==============================] - 10s 7ms/step - loss: 0.7118 - accuracy: 0.7553\n",
            "Epoch 16/20\n",
            "1563/1563 [==============================] - 10s 7ms/step - loss: 0.6862 - accuracy: 0.7643\n",
            "Epoch 17/20\n",
            "1563/1563 [==============================] - 10s 6ms/step - loss: 0.6676 - accuracy: 0.7717\n",
            "Epoch 18/20\n",
            "1563/1563 [==============================] - 10s 6ms/step - loss: 0.6517 - accuracy: 0.7800\n",
            "Epoch 19/20\n",
            "1563/1563 [==============================] - 10s 7ms/step - loss: 0.6243 - accuracy: 0.7875\n",
            "Epoch 20/20\n",
            "1563/1563 [==============================] - 10s 7ms/step - loss: 0.6051 - accuracy: 0.7916\n",
            "Test loss: 0.76861572265625\n",
            "Test accuracy: 0.7383000254631042\n"
          ],
          "name": "stdout"
        }
      ]
    },
    {
      "cell_type": "code",
      "metadata": {
        "id": "c5Yoec_T2QTu",
        "colab": {
          "base_uri": "https://localhost:8080/"
        },
        "outputId": "28394153-e58d-479d-c54c-1be18bee59fa"
      },
      "source": [
        "print(history.history.keys())"
      ],
      "execution_count": null,
      "outputs": [
        {
          "output_type": "stream",
          "text": [
            "dict_keys(['loss', 'accuracy'])\n"
          ],
          "name": "stdout"
        }
      ]
    },
    {
      "cell_type": "code",
      "metadata": {
        "id": "qjvPP_Nqr_cL",
        "colab": {
          "base_uri": "https://localhost:8080/",
          "height": 338
        },
        "outputId": "e278a4c1-ad77-4943-e5cb-8c3afd1b788e"
      },
      "source": [
        "fig, axes = plt.subplots(2,1)\r\n",
        "xmax=len(history.history['loss'])\r\n",
        "\r\n",
        "axes[0].hlines(y=score[0],xmin=0,xmax=xmax,color='r')\r\n",
        "axes[0].plot(history.history['loss'], 'b')\r\n",
        "axes[0].set_title('Model Loss')\r\n",
        "axes[0].set_ylabel('Cross Entropy Loss')\r\n",
        "axes[0].set_xlabel('Epoch')\r\n",
        "\r\n",
        "\r\n",
        "fig.subplots_adjust(hspace=0.75)\r\n",
        "\r\n",
        "axes[1].hlines(y=score[1],xmin=0,xmax=xmax,color='r')\r\n",
        "axes[1].plot(history.history['accuracy'],'b')\r\n",
        "axes[1].set_title('Model Accuracy')\r\n",
        "axes[1].set_ylabel('Accuracy (%)')\r\n",
        "axes[1].set_xlabel('Epoch')\r\n",
        "\r\n",
        "fig.patch.set_facecolor('xkcd:white')\r\n",
        "\r\n",
        "Test = mpatches.Patch(color='red', label='Test ')\r\n",
        "Training = mpatches.Patch(color='blue',label='Training')\r\n",
        "\r\n",
        "axes[1].legend(bbox_to_anchor=(0.5, -0.6), \r\n",
        "               loc='center',\r\n",
        "               handles=[Training,Test],\r\n",
        "               ncol=3)"
      ],
      "execution_count": null,
      "outputs": [
        {
          "output_type": "execute_result",
          "data": {
            "text/plain": [
              "<matplotlib.legend.Legend at 0x7f6770086be0>"
            ]
          },
          "metadata": {
            "tags": []
          },
          "execution_count": 75
        },
        {
          "output_type": "display_data",
          "data": {
            "image/png": "[encoded data removed]",
            "text/plain": [
              "<Figure size 432x288 with 2 Axes>"
            ]
          },
          "metadata": {
            "tags": []
          }
        }
      ]
    },
    {
      "cell_type": "markdown",
      "metadata": {
        "id": "mtsKb4WxsAMs"
      },
      "source": [
        "### Saving the Data"
      ]
    },
    {
      "cell_type": "markdown",
      "metadata": {
        "id": "FLMCrAVV3RMp"
      },
      "source": [
        "Saving model as h5 file "
      ]
    },
    {
      "cell_type": "code",
      "metadata": {
        "id": "Qjh6Mwu4Xoq_"
      },
      "source": [
        "# saving the model\r\n",
        "\r\n",
        "model.save('Classification_cifar10.h5')  # creates a HDF5 file 'Classification_cifar10.h5'"
      ],
      "execution_count": null,
      "outputs": []
    },
    {
      "cell_type": "code",
      "metadata": {
        "id": "a-GfHXtR22Zn"
      },
      "source": [
        "# load model using h5 files\r\n",
        "from keras.models import load_model\r\n",
        "model = load_model('Classification_cifar10.h5') "
      ],
      "execution_count": null,
      "outputs": []
    },
    {
      "cell_type": "markdown",
      "metadata": {
        "id": "bmKxXxx93NEb"
      },
      "source": [
        "Saving model as weights (json) NOT COMPILED\r\n",
        "\r\n"
      ]
    },
    {
      "cell_type": "code",
      "metadata": {
        "id": "M3uHGHrKYnnV"
      },
      "source": [
        "# Saving the model as weights\r\n",
        "model.save_weights('Classification_cifar10_weights.h5') # creates a HDF5 file 'Classification_cifar10.h5'\r\n",
        "\r\n",
        "with open('my_model_architecture.json', 'w') as f:\r\n",
        "    f.write(model.to_json()) # creates a json file 'my_model_architecture.json'\r\n"
      ],
      "execution_count": null,
      "outputs": []
    },
    {
      "cell_type": "code",
      "metadata": {
        "id": "c9Cq_lzQZM_g"
      },
      "source": [
        "# Import model from json file \r\n",
        "from keras.models import model_from_json\r\n",
        "\r\n",
        "# Model reconstruction from JSON file\r\n",
        "with open('my_model_architecture.json', 'r') as f:\r\n",
        "    model = model_from_json(f.read())\r\n",
        "\r\n",
        "# MODEL STILL NEEDED TO BE COMPILED"
      ],
      "execution_count": null,
      "outputs": []
    },
    {
      "cell_type": "code",
      "metadata": {
        "colab": {
          "base_uri": "https://localhost:8080/"
        },
        "id": "sDAHGg0o3m8i",
        "outputId": "f34c9029-15ee-441b-996b-ba06851ff7e4"
      },
      "source": [
        "# Check if model is loaded\r\n",
        "score = model.evaluate(x_test, y_test_class, verbose=0)\r\n",
        "print('Test loss:', score[0])\r\n",
        "print('Test accuracy:', score[1])"
      ],
      "execution_count": null,
      "outputs": [
        {
          "output_type": "stream",
          "text": [
            "Test loss: 0.6748302578926086\n",
            "Test accuracy: 0.8008999824523926\n"
          ],
          "name": "stdout"
        }
      ]
    },
    {
      "cell_type": "markdown",
      "metadata": {
        "id": "awh2JQEo3UPh"
      },
      "source": [
        "**DELETING MODEL**"
      ]
    },
    {
      "cell_type": "code",
      "metadata": {
        "id": "N8ieUYLIZYcV",
        "colab": {
          "base_uri": "https://localhost:8080/",
          "height": 163
        },
        "outputId": "5ac90a3a-1541-4fef-d3f5-765935a374c4"
      },
      "source": [
        "del model"
      ],
      "execution_count": null,
      "outputs": [
        {
          "output_type": "error",
          "ename": "NameError",
          "evalue": "ignored",
          "traceback": [
            "\u001b[0;31m---------------------------------------------------------------------------\u001b[0m",
            "\u001b[0;31mNameError\u001b[0m                                 Traceback (most recent call last)",
            "\u001b[0;32m<ipython-input-17-a7ab210f85a1>\u001b[0m in \u001b[0;36m<module>\u001b[0;34m()\u001b[0m\n\u001b[0;32m----> 1\u001b[0;31m \u001b[0;32mdel\u001b[0m \u001b[0mmodel\u001b[0m\u001b[0;34m\u001b[0m\u001b[0;34m\u001b[0m\u001b[0m\n\u001b[0m",
            "\u001b[0;31mNameError\u001b[0m: name 'model' is not defined"
          ]
        }
      ]
    },
    {
      "cell_type": "markdown",
      "metadata": {
        "id": "3w8eUV9RDPkL"
      },
      "source": [
        "\n",
        "---\n",
        "---\n",
        "\n",
        "## Task 2: Regression\n",
        "\n",
        "Now we face a regression task instead of a classification problem. Loss function, activations, and dataset will change in the following task. Thus, instead of having one vector with the probabilities of each class, in this regression problem, the output is a single scalar. \n",
        "\n",
        "For this second task, we chose the task of estimating house prices based on input images. To get the data run the following script, which clones Ahmed and Moustafa’s [repository](https://github.com/emanhamed/Houses-dataset) into colmap."
      ]
    },
    {
      "cell_type": "code",
      "metadata": {
        "id": "Ibukle2ODMEp",
        "colab": {
          "base_uri": "https://localhost:8080/"
        },
        "outputId": "f96d5b69-7560-47ff-84a5-5a3d70c00f73"
      },
      "source": [
        "# Download data\n",
        "!git clone https://github.com/emanhamed/Houses-dataset\n",
        "%cd /content/Houses-dataset/Houses\\ Dataset"
      ],
      "execution_count": null,
      "outputs": [
        {
          "output_type": "stream",
          "text": [
            "fatal: destination path 'Houses-dataset' already exists and is not an empty directory.\n",
            "/content/Houses-dataset/Houses Dataset\n"
          ],
          "name": "stdout"
        }
      ]
    },
    {
      "cell_type": "markdown",
      "metadata": {
        "id": "Ye6xldkVEV-t"
      },
      "source": [
        "This dataset contains four images of the house (kitchen, frontal, bedroom and bathroom), and attributes (number of bedrooms, number of bathrooms, zip code...). For our exercise, we only use the images of the house. We start with front door images. "
      ]
    },
    {
      "cell_type": "code",
      "metadata": {
        "id": "71urud9ZHq9d",
        "colab": {
          "base_uri": "https://localhost:8080/",
          "height": 285
        },
        "outputId": "fc4b0e22-110b-4c7d-b331-c2b9688c206b"
      },
      "source": [
        "import cv2\n",
        "import numpy as np\n",
        "import matplotlib.pyplot as plt\n",
        "from numpy.random import seed\n",
        "\n",
        "house_section = 'frontal' # select between: kitchen, frontal, bedroom or bathroom\n",
        "print('We have selected {} images. You can switch to the kitchen, frontal, bedroom or bathroom images by changing house_section variable.'.format(house_section))\n",
        "images = []\n",
        "for i_im in range(1, 536):\n",
        "  image = cv2.imread(str(i_im)+'_'+house_section+'.jpg')\n",
        "  image = cv2.resize(image, (64, 64))\n",
        "  images.append(image)\n",
        "\n",
        "labels = []\n",
        "f = open('HousesInfo.txt', \"r\")\n",
        "for x in f:\n",
        "  label = (x).split(' ')[-1].split('\\n')[0]\n",
        "  labels.append(label)\n",
        "\n",
        "# Let's visualize some examples\n",
        "N=3\n",
        "start_val = 0 # pick an element for the code to plot the following N**2 values\n",
        "fig, axes = plt.subplots(N,N)\n",
        "for row in range(N):\n",
        "  for col in range(N):\n",
        "    idx = start_val+row+N*col    \n",
        "    tmp = cv2.cvtColor(images[idx],cv2.COLOR_BGR2RGB)\n",
        "    axes[row,col].imshow(tmp, cmap='gray')\n",
        "    fig.subplots_adjust(hspace=0.5)\n",
        "    target = int(labels[idx])\n",
        "    axes[row,col].set_title(str(target) + '$')\n",
        "    axes[row,col].set_xticks([])\n",
        "    axes[row,col].set_yticks([])"
      ],
      "execution_count": null,
      "outputs": [
        {
          "output_type": "stream",
          "text": [
            "We have selected frontal images. You can switch to the kitchen, frontal, bedroom or bathroom images by changing house_section variable.\n"
          ],
          "name": "stdout"
        },
        {
          "output_type": "display_data",
          "data": {
            "image/png": "[encoded data removed]",
            "text/plain": [
              "<Figure size 432x288 with 9 Axes>"
            ]
          },
          "metadata": {
            "tags": []
          }
        }
      ]
    },
    {
      "cell_type": "markdown",
      "metadata": {
        "id": "scNfczb73nGS"
      },
      "source": [
        "Prepare the dataset for training the model:"
      ]
    },
    {
      "cell_type": "code",
      "metadata": {
        "id": "FORNJ1QU2L-t",
        "colab": {
          "base_uri": "https://localhost:8080/"
        },
        "outputId": "1413dbb0-fe5a-4d4c-eae3-add5403b9e13"
      },
      "source": [
        "seed(1234)\n",
        "images = np.asarray(images).astype('float32')\n",
        "labels = np.asarray(labels).astype('float32')\n",
        "\n",
        "# Normalize the image\n",
        "max_price = labels.max()\n",
        "images /= 255.\n",
        "labels /= max_price\n",
        "\n",
        "random_idx = np.random.permutation(len(images))\n",
        "print(len(images))\n",
        "images = images[random_idx]\n",
        "labels = labels[random_idx]\n",
        "\n",
        "split_size_val = int(0.8*len(images))\n",
        "X_train, X_val = images[:split_size_val], images[split_size_val+1:]\n",
        "Y_train, Y_val = labels[:split_size_val], labels[split_size_val+1:]\n",
        "\n",
        "# Print shape of training and test images \n",
        "print('X_train image shape: {0}'.format(X_train.shape))\n",
        "print('X_val image shape: {0}'.format(X_val.shape))\n",
        "\n",
        "# Print shape of training and test labels \n",
        "print('Y_train labels shape: {0}'.format(Y_train.shape))\n",
        "print('Y_val labels shape: {0}'.format(Y_val.shape))\n",
        "\n",
        "\n",
        "print('Input shape: {0}'.format(X_train.shape[1:]))"
      ],
      "execution_count": null,
      "outputs": [
        {
          "output_type": "stream",
          "text": [
            "535\n",
            "X_train image shape: (428, 64, 64, 3)\n",
            "X_val image shape: (106, 64, 64, 3)\n",
            "Y_train labels shape: (428,)\n",
            "Y_val labels shape: (106,)\n",
            "Input shape: (64, 64, 3)\n"
          ],
          "name": "stdout"
        }
      ]
    },
    {
      "cell_type": "markdown",
      "metadata": {
        "id": "JGC6dXqdM2eU"
      },
      "source": [
        "### Problem Definition\n",
        "\n",
        "Similar to the previous task, you are asked to design a CNN architecture able to perform the estimation of house prices based on the `frontal` house image. Design a new model by changing parameters such as the number of convolutional layers, activation functions, strides, or pooling operators, among others."
      ]
    },
    {
      "cell_type": "code",
      "metadata": {
        "id": "YE8g42x3M2Ko",
        "colab": {
          "base_uri": "https://localhost:8080/"
        },
        "outputId": "1a156b18-64c0-4dd1-97a9-e023d6b1a2a9"
      },
      "source": [
        "import tensorflow as tf\n",
        "tf.compat.v1.logging.set_verbosity(tf.compat.v1.logging.ERROR)\n",
        "from keras.models import Sequential, Model\n",
        "from keras.layers import Dense, Activation\n",
        "from keras.utils import np_utils\n",
        "from keras.optimizers import Adam\n",
        "from keras.optimizers import RMSprop\n",
        "from keras.layers import Conv2D, MaxPooling2D, Flatten, AveragePooling2D, Dropout, LeakyReLU\n",
        "from keras.callbacks import EarlyStopping\n",
        "import matplotlib.pyplot as plt\n",
        "import matplotlib.patches as mpatches\n",
        "\n",
        "from keras import models\n",
        "\n",
        "tf.keras.backend.clear_session()\n",
        "print('Input shape: {0}'.format(X_train.shape[1:]))\n",
        "\n",
        "chanDim = -1\n",
        "\n",
        "model = Sequential()\n",
        "\n",
        "load_model_VGG5()\n",
        "\n",
        "# . . . \n",
        "model.summary()"
      ],
      "execution_count": null,
      "outputs": [
        {
          "output_type": "stream",
          "text": [
            "Input shape: (64, 64, 3)\n",
            "Model: \"sequential\"\n",
            "_________________________________________________________________\n",
            "Layer (type)                 Output Shape              Param #   \n",
            "=================================================================\n",
            "conv2d (Conv2D)              (None, 64, 64, 64)        1792      \n",
            "_________________________________________________________________\n",
            "activation (Activation)      (None, 64, 64, 64)        0         \n",
            "_________________________________________________________________\n",
            "conv2d_1 (Conv2D)            (None, 64, 64, 64)        36928     \n",
            "_________________________________________________________________\n",
            "activation_1 (Activation)    (None, 64, 64, 64)        0         \n",
            "_________________________________________________________________\n",
            "max_pooling2d (MaxPooling2D) (None, 32, 32, 64)        0         \n",
            "_________________________________________________________________\n",
            "conv2d_2 (Conv2D)            (None, 32, 32, 128)       73856     \n",
            "_________________________________________________________________\n",
            "activation_2 (Activation)    (None, 32, 32, 128)       0         \n",
            "_________________________________________________________________\n",
            "conv2d_3 (Conv2D)            (None, 32, 32, 128)       147584    \n",
            "_________________________________________________________________\n",
            "activation_3 (Activation)    (None, 32, 32, 128)       0         \n",
            "_________________________________________________________________\n",
            "max_pooling2d_1 (MaxPooling2 (None, 16, 16, 128)       0         \n",
            "_________________________________________________________________\n",
            "flatten (Flatten)            (None, 32768)             0         \n",
            "_________________________________________________________________\n",
            "dense (Dense)                (None, 64)                2097216   \n",
            "_________________________________________________________________\n",
            "activation_4 (Activation)    (None, 64)                0         \n",
            "_________________________________________________________________\n",
            "dense_1 (Dense)              (None, 1)                 65        \n",
            "_________________________________________________________________\n",
            "activation_5 (Activation)    (None, 1)                 0         \n",
            "=================================================================\n",
            "Total params: 2,357,441\n",
            "Trainable params: 2,357,441\n",
            "Non-trainable params: 0\n",
            "_________________________________________________________________\n"
          ],
          "name": "stdout"
        }
      ]
    },
    {
      "cell_type": "code",
      "metadata": {
        "id": "QD8uGXIflztX",
        "colab": {
          "base_uri": "https://localhost:8080/"
        },
        "outputId": "4eea1c52-b472-4ed9-93f7-c374ea08b3f3"
      },
      "source": [
        "# Modeling \r\n",
        "\r\n",
        "opt = Adam(lr=1e-3, decay=1e-3 / 200)\r\n",
        "model.compile(loss=\"mean_absolute_percentage_error\", \r\n",
        "              optimizer=opt, \r\n",
        "              metrics=['mean_absolute_percentage_error'])\r\n",
        "\r\n",
        "early_stopping = EarlyStopping(monitor='val_mean_absolute_percentage_error',\r\n",
        "                               restore_best_weights=True,\r\n",
        "                               patience=25)\r\n",
        "\r\n",
        "# train the model\r\n",
        "print(\"[INFO] training model...\")\r\n",
        "history = model.fit(X_train, Y_train, validation_data=(X_val, Y_val), \r\n",
        "                    epochs=100, \r\n",
        "                    batch_size=32,\r\n",
        "                    callbacks=[early_stopping])\r\n",
        "\r\n",
        "# history = model.fit(X_train, Y_train, validation_data=(X_val, Y_val), \r\n",
        "#                     epochs=100, \r\n",
        "#                     batch_size=32)"
      ],
      "execution_count": null,
      "outputs": [
        {
          "output_type": "stream",
          "text": [
            "[INFO] training model...\n",
            "Epoch 1/100\n",
            "14/14 [==============================] - 1s 34ms/step - loss: 102.9493 - mean_absolute_percentage_error: 102.9493 - val_loss: 70.3062 - val_mean_absolute_percentage_error: 70.3062\n",
            "Epoch 2/100\n",
            "14/14 [==============================] - 0s 20ms/step - loss: 70.9611 - mean_absolute_percentage_error: 70.9611 - val_loss: 68.0606 - val_mean_absolute_percentage_error: 68.0606\n",
            "Epoch 3/100\n",
            "14/14 [==============================] - 0s 21ms/step - loss: 70.5025 - mean_absolute_percentage_error: 70.5025 - val_loss: 71.9249 - val_mean_absolute_percentage_error: 71.9249\n",
            "Epoch 4/100\n",
            "14/14 [==============================] - 0s 20ms/step - loss: 72.2330 - mean_absolute_percentage_error: 72.2330 - val_loss: 68.3560 - val_mean_absolute_percentage_error: 68.3560\n",
            "Epoch 5/100\n",
            "14/14 [==============================] - 0s 20ms/step - loss: 71.4847 - mean_absolute_percentage_error: 71.4847 - val_loss: 71.4374 - val_mean_absolute_percentage_error: 71.4374\n",
            "Epoch 6/100\n",
            "14/14 [==============================] - 0s 20ms/step - loss: 69.0037 - mean_absolute_percentage_error: 69.0037 - val_loss: 67.7035 - val_mean_absolute_percentage_error: 67.7035\n",
            "Epoch 7/100\n",
            "14/14 [==============================] - 0s 20ms/step - loss: 72.1805 - mean_absolute_percentage_error: 72.1805 - val_loss: 70.5767 - val_mean_absolute_percentage_error: 70.5767\n",
            "Epoch 8/100\n",
            "14/14 [==============================] - 0s 20ms/step - loss: 71.6050 - mean_absolute_percentage_error: 71.6050 - val_loss: 68.2104 - val_mean_absolute_percentage_error: 68.2104\n",
            "Epoch 9/100\n",
            "14/14 [==============================] - 0s 20ms/step - loss: 71.1305 - mean_absolute_percentage_error: 71.1305 - val_loss: 68.5587 - val_mean_absolute_percentage_error: 68.5587\n",
            "Epoch 10/100\n",
            "14/14 [==============================] - 0s 21ms/step - loss: 69.9952 - mean_absolute_percentage_error: 69.9952 - val_loss: 68.9154 - val_mean_absolute_percentage_error: 68.9154\n",
            "Epoch 11/100\n",
            "14/14 [==============================] - 0s 21ms/step - loss: 73.3593 - mean_absolute_percentage_error: 73.3593 - val_loss: 68.6927 - val_mean_absolute_percentage_error: 68.6927\n",
            "Epoch 12/100\n",
            "14/14 [==============================] - 0s 20ms/step - loss: 73.5897 - mean_absolute_percentage_error: 73.5897 - val_loss: 72.0273 - val_mean_absolute_percentage_error: 72.0273\n",
            "Epoch 13/100\n",
            "14/14 [==============================] - 0s 21ms/step - loss: 71.7547 - mean_absolute_percentage_error: 71.7547 - val_loss: 69.0816 - val_mean_absolute_percentage_error: 69.0816\n",
            "Epoch 14/100\n",
            "14/14 [==============================] - 0s 20ms/step - loss: 71.3943 - mean_absolute_percentage_error: 71.3943 - val_loss: 68.8005 - val_mean_absolute_percentage_error: 68.8005\n",
            "Epoch 15/100\n",
            "14/14 [==============================] - 0s 21ms/step - loss: 70.0109 - mean_absolute_percentage_error: 70.0109 - val_loss: 68.6781 - val_mean_absolute_percentage_error: 68.6781\n",
            "Epoch 16/100\n",
            "14/14 [==============================] - 0s 20ms/step - loss: 67.6421 - mean_absolute_percentage_error: 67.6421 - val_loss: 70.0352 - val_mean_absolute_percentage_error: 70.0352\n",
            "Epoch 17/100\n",
            "14/14 [==============================] - 0s 20ms/step - loss: 71.9489 - mean_absolute_percentage_error: 71.9489 - val_loss: 68.9858 - val_mean_absolute_percentage_error: 68.9858\n",
            "Epoch 18/100\n",
            "14/14 [==============================] - 0s 21ms/step - loss: 69.2286 - mean_absolute_percentage_error: 69.2286 - val_loss: 68.6507 - val_mean_absolute_percentage_error: 68.6507\n",
            "Epoch 19/100\n",
            "14/14 [==============================] - 0s 20ms/step - loss: 69.8638 - mean_absolute_percentage_error: 69.8638 - val_loss: 68.2956 - val_mean_absolute_percentage_error: 68.2956\n",
            "Epoch 20/100\n",
            "14/14 [==============================] - 0s 21ms/step - loss: 69.7894 - mean_absolute_percentage_error: 69.7894 - val_loss: 69.0029 - val_mean_absolute_percentage_error: 69.0029\n",
            "Epoch 21/100\n",
            "14/14 [==============================] - 0s 20ms/step - loss: 71.4433 - mean_absolute_percentage_error: 71.4433 - val_loss: 68.5052 - val_mean_absolute_percentage_error: 68.5052\n",
            "Epoch 22/100\n",
            "14/14 [==============================] - 0s 21ms/step - loss: 71.7382 - mean_absolute_percentage_error: 71.7382 - val_loss: 69.6858 - val_mean_absolute_percentage_error: 69.6858\n",
            "Epoch 23/100\n",
            "14/14 [==============================] - 0s 20ms/step - loss: 69.5530 - mean_absolute_percentage_error: 69.5530 - val_loss: 69.3926 - val_mean_absolute_percentage_error: 69.3926\n",
            "Epoch 24/100\n",
            "14/14 [==============================] - 0s 21ms/step - loss: 70.3321 - mean_absolute_percentage_error: 70.3321 - val_loss: 67.9366 - val_mean_absolute_percentage_error: 67.9366\n",
            "Epoch 25/100\n",
            "14/14 [==============================] - 0s 21ms/step - loss: 71.7710 - mean_absolute_percentage_error: 71.7710 - val_loss: 68.1422 - val_mean_absolute_percentage_error: 68.1422\n",
            "Epoch 26/100\n",
            "14/14 [==============================] - 0s 20ms/step - loss: 69.3188 - mean_absolute_percentage_error: 69.3188 - val_loss: 69.5877 - val_mean_absolute_percentage_error: 69.5877\n",
            "Epoch 27/100\n",
            "14/14 [==============================] - 0s 20ms/step - loss: 69.5810 - mean_absolute_percentage_error: 69.5810 - val_loss: 68.4191 - val_mean_absolute_percentage_error: 68.4191\n",
            "Epoch 28/100\n",
            "14/14 [==============================] - 0s 20ms/step - loss: 73.0169 - mean_absolute_percentage_error: 73.0169 - val_loss: 70.5916 - val_mean_absolute_percentage_error: 70.5916\n",
            "Epoch 29/100\n",
            "14/14 [==============================] - 0s 20ms/step - loss: 72.0790 - mean_absolute_percentage_error: 72.0790 - val_loss: 73.4291 - val_mean_absolute_percentage_error: 73.4291\n",
            "Epoch 30/100\n",
            "14/14 [==============================] - 0s 20ms/step - loss: 68.8102 - mean_absolute_percentage_error: 68.8102 - val_loss: 67.5934 - val_mean_absolute_percentage_error: 67.5934\n",
            "Epoch 31/100\n",
            "14/14 [==============================] - 0s 20ms/step - loss: 71.8315 - mean_absolute_percentage_error: 71.8315 - val_loss: 72.6193 - val_mean_absolute_percentage_error: 72.6193\n",
            "Epoch 32/100\n",
            "14/14 [==============================] - 0s 20ms/step - loss: 70.5297 - mean_absolute_percentage_error: 70.5297 - val_loss: 67.5957 - val_mean_absolute_percentage_error: 67.5957\n",
            "Epoch 33/100\n",
            "14/14 [==============================] - 0s 20ms/step - loss: 68.7635 - mean_absolute_percentage_error: 68.7635 - val_loss: 70.3796 - val_mean_absolute_percentage_error: 70.3796\n",
            "Epoch 34/100\n",
            "14/14 [==============================] - 0s 20ms/step - loss: 69.0795 - mean_absolute_percentage_error: 69.0795 - val_loss: 68.1945 - val_mean_absolute_percentage_error: 68.1945\n",
            "Epoch 35/100\n",
            "14/14 [==============================] - 0s 21ms/step - loss: 71.6088 - mean_absolute_percentage_error: 71.6088 - val_loss: 68.1166 - val_mean_absolute_percentage_error: 68.1166\n",
            "Epoch 36/100\n",
            "14/14 [==============================] - 0s 21ms/step - loss: 71.0464 - mean_absolute_percentage_error: 71.0464 - val_loss: 68.4578 - val_mean_absolute_percentage_error: 68.4578\n",
            "Epoch 37/100\n",
            "14/14 [==============================] - 0s 21ms/step - loss: 70.5395 - mean_absolute_percentage_error: 70.5395 - val_loss: 69.3129 - val_mean_absolute_percentage_error: 69.3129\n",
            "Epoch 38/100\n",
            "14/14 [==============================] - 0s 30ms/step - loss: 71.5726 - mean_absolute_percentage_error: 71.5726 - val_loss: 68.1554 - val_mean_absolute_percentage_error: 68.1554\n",
            "Epoch 39/100\n",
            "14/14 [==============================] - 0s 21ms/step - loss: 69.4551 - mean_absolute_percentage_error: 69.4551 - val_loss: 71.2418 - val_mean_absolute_percentage_error: 71.2418\n",
            "Epoch 40/100\n",
            "14/14 [==============================] - 0s 21ms/step - loss: 67.3519 - mean_absolute_percentage_error: 67.3519 - val_loss: 68.0238 - val_mean_absolute_percentage_error: 68.0238\n",
            "Epoch 41/100\n",
            "14/14 [==============================] - 0s 20ms/step - loss: 71.8584 - mean_absolute_percentage_error: 71.8584 - val_loss: 70.2699 - val_mean_absolute_percentage_error: 70.2699\n",
            "Epoch 42/100\n",
            "14/14 [==============================] - 0s 20ms/step - loss: 70.2535 - mean_absolute_percentage_error: 70.2535 - val_loss: 70.9075 - val_mean_absolute_percentage_error: 70.9075\n",
            "Epoch 43/100\n",
            "14/14 [==============================] - 0s 20ms/step - loss: 66.2394 - mean_absolute_percentage_error: 66.2394 - val_loss: 67.6746 - val_mean_absolute_percentage_error: 67.6746\n",
            "Epoch 44/100\n",
            "14/14 [==============================] - 0s 21ms/step - loss: 72.0468 - mean_absolute_percentage_error: 72.0468 - val_loss: 71.1183 - val_mean_absolute_percentage_error: 71.1183\n",
            "Epoch 45/100\n",
            "14/14 [==============================] - 0s 21ms/step - loss: 68.1140 - mean_absolute_percentage_error: 68.1140 - val_loss: 68.3998 - val_mean_absolute_percentage_error: 68.3998\n",
            "Epoch 46/100\n",
            "14/14 [==============================] - 0s 20ms/step - loss: 72.5545 - mean_absolute_percentage_error: 72.5545 - val_loss: 69.3658 - val_mean_absolute_percentage_error: 69.3658\n",
            "Epoch 47/100\n",
            "14/14 [==============================] - 0s 21ms/step - loss: 72.5494 - mean_absolute_percentage_error: 72.5494 - val_loss: 70.3510 - val_mean_absolute_percentage_error: 70.3510\n",
            "Epoch 48/100\n",
            "14/14 [==============================] - 0s 21ms/step - loss: 67.9351 - mean_absolute_percentage_error: 67.9351 - val_loss: 67.7143 - val_mean_absolute_percentage_error: 67.7143\n",
            "Epoch 49/100\n",
            "14/14 [==============================] - 0s 20ms/step - loss: 71.0551 - mean_absolute_percentage_error: 71.0551 - val_loss: 68.6029 - val_mean_absolute_percentage_error: 68.6029\n",
            "Epoch 50/100\n",
            "14/14 [==============================] - 0s 20ms/step - loss: 70.6547 - mean_absolute_percentage_error: 70.6547 - val_loss: 69.3591 - val_mean_absolute_percentage_error: 69.3591\n",
            "Epoch 51/100\n",
            "14/14 [==============================] - 0s 21ms/step - loss: 70.8826 - mean_absolute_percentage_error: 70.8826 - val_loss: 68.5052 - val_mean_absolute_percentage_error: 68.5052\n",
            "Epoch 52/100\n",
            "14/14 [==============================] - 0s 21ms/step - loss: 70.6597 - mean_absolute_percentage_error: 70.6597 - val_loss: 67.9017 - val_mean_absolute_percentage_error: 67.9017\n",
            "Epoch 53/100\n",
            "14/14 [==============================] - 0s 21ms/step - loss: 71.9006 - mean_absolute_percentage_error: 71.9006 - val_loss: 69.8798 - val_mean_absolute_percentage_error: 69.8798\n",
            "Epoch 54/100\n",
            "14/14 [==============================] - 0s 21ms/step - loss: 70.6540 - mean_absolute_percentage_error: 70.6540 - val_loss: 70.8246 - val_mean_absolute_percentage_error: 70.8246\n",
            "Epoch 55/100\n",
            "14/14 [==============================] - 0s 21ms/step - loss: 71.0372 - mean_absolute_percentage_error: 71.0372 - val_loss: 68.2793 - val_mean_absolute_percentage_error: 68.2793\n"
          ],
          "name": "stdout"
        }
      ]
    },
    {
      "cell_type": "code",
      "metadata": {
        "colab": {
          "base_uri": "https://localhost:8080/"
        },
        "id": "B1_LsL8qD4i9",
        "outputId": "66ab968f-50e4-46ab-9f1c-ad0308223aab"
      },
      "source": [
        "tf.keras.backend.clear_session()\r\n",
        "print('Input shape: {0}'.format(X_train.shape[1:]))\r\n",
        "\r\n",
        "chanDim = -1\r\n",
        "\r\n",
        "model = Sequential()\r\n",
        "\r\n",
        "load_model_LeNet5()\r\n",
        "\r\n",
        "# . . . \r\n",
        "model.summary()"
      ],
      "execution_count": null,
      "outputs": [
        {
          "output_type": "stream",
          "text": [
            "Input shape: (64, 64, 3)\n",
            "Model: \"sequential\"\n",
            "_________________________________________________________________\n",
            "Layer (type)                 Output Shape              Param #   \n",
            "=================================================================\n",
            "conv2d (Conv2D)              (None, 60, 60, 6)         456       \n",
            "_________________________________________________________________\n",
            "activation (Activation)      (None, 60, 60, 6)         0         \n",
            "_________________________________________________________________\n",
            "average_pooling2d (AveragePo (None, 30, 30, 6)         0         \n",
            "_________________________________________________________________\n",
            "conv2d_1 (Conv2D)            (None, 26, 26, 12)        1812      \n",
            "_________________________________________________________________\n",
            "activation_1 (Activation)    (None, 26, 26, 12)        0         \n",
            "_________________________________________________________________\n",
            "average_pooling2d_1 (Average (None, 13, 13, 12)        0         \n",
            "_________________________________________________________________\n",
            "conv2d_2 (Conv2D)            (None, 9, 9, 24)          7224      \n",
            "_________________________________________________________________\n",
            "activation_2 (Activation)    (None, 9, 9, 24)          0         \n",
            "_________________________________________________________________\n",
            "average_pooling2d_2 (Average (None, 4, 4, 24)          0         \n",
            "_________________________________________________________________\n",
            "flatten (Flatten)            (None, 384)               0         \n",
            "_________________________________________________________________\n",
            "dense (Dense)                (None, 120)               46200     \n",
            "_________________________________________________________________\n",
            "activation_3 (Activation)    (None, 120)               0         \n",
            "_________________________________________________________________\n",
            "dense_1 (Dense)              (None, 84)                10164     \n",
            "_________________________________________________________________\n",
            "activation_4 (Activation)    (None, 84)                0         \n",
            "_________________________________________________________________\n",
            "dense_2 (Dense)              (None, 1)                 85        \n",
            "_________________________________________________________________\n",
            "activation_5 (Activation)    (None, 1)                 0         \n",
            "=================================================================\n",
            "Total params: 65,941\n",
            "Trainable params: 65,941\n",
            "Non-trainable params: 0\n",
            "_________________________________________________________________\n"
          ],
          "name": "stdout"
        }
      ]
    },
    {
      "cell_type": "code",
      "metadata": {
        "colab": {
          "base_uri": "https://localhost:8080/"
        },
        "id": "iVbW6oslD8x2",
        "outputId": "984c86de-0401-4b35-b979-cee984623aaa"
      },
      "source": [
        "# Modeling \r\n",
        "\r\n",
        "opt = Adam(lr=1e-3, decay=1e-3 / 200)\r\n",
        "model.compile(loss=\"mean_absolute_percentage_error\", \r\n",
        "              optimizer=opt, \r\n",
        "              metrics=['mean_absolute_percentage_error'])\r\n",
        "\r\n",
        "early_stopping = EarlyStopping(monitor='val_mean_absolute_percentage_error',\r\n",
        "                               restore_best_weights=True, \r\n",
        "                               patience=25)\r\n",
        "\r\n",
        "# train the model\r\n",
        "print(\"[INFO] training model...\")\r\n",
        "history2 = model.fit(X_train, Y_train, validation_data=(X_val, Y_val), \r\n",
        "                    epochs=100, \r\n",
        "                    batch_size=32,\r\n",
        "                    callbacks=[early_stopping])\r\n",
        "\r\n",
        "# history = model.fit(X_train, Y_train, validation_data=(X_val, Y_val), \r\n",
        "#                     epochs=100, \r\n",
        "#                     batch_size=32)"
      ],
      "execution_count": null,
      "outputs": [
        {
          "output_type": "stream",
          "text": [
            "[INFO] training model...\n",
            "Epoch 1/100\n",
            "14/14 [==============================] - 1s 17ms/step - loss: 82.3128 - mean_absolute_percentage_error: 82.3128 - val_loss: 67.6247 - val_mean_absolute_percentage_error: 67.6247\n",
            "Epoch 2/100\n",
            "14/14 [==============================] - 0s 7ms/step - loss: 71.0926 - mean_absolute_percentage_error: 71.0926 - val_loss: 71.9921 - val_mean_absolute_percentage_error: 71.9921\n",
            "Epoch 3/100\n",
            "14/14 [==============================] - 0s 7ms/step - loss: 70.1252 - mean_absolute_percentage_error: 70.1252 - val_loss: 67.8847 - val_mean_absolute_percentage_error: 67.8847\n",
            "Epoch 4/100\n",
            "14/14 [==============================] - 0s 7ms/step - loss: 70.3350 - mean_absolute_percentage_error: 70.3350 - val_loss: 71.7456 - val_mean_absolute_percentage_error: 71.7456\n",
            "Epoch 5/100\n",
            "14/14 [==============================] - 0s 7ms/step - loss: 75.2499 - mean_absolute_percentage_error: 75.2499 - val_loss: 69.9985 - val_mean_absolute_percentage_error: 69.9985\n",
            "Epoch 6/100\n",
            "14/14 [==============================] - 0s 7ms/step - loss: 69.6756 - mean_absolute_percentage_error: 69.6756 - val_loss: 68.5355 - val_mean_absolute_percentage_error: 68.5355\n",
            "Epoch 7/100\n",
            "14/14 [==============================] - 0s 8ms/step - loss: 70.6946 - mean_absolute_percentage_error: 70.6946 - val_loss: 67.9704 - val_mean_absolute_percentage_error: 67.9704\n",
            "Epoch 8/100\n",
            "14/14 [==============================] - 0s 7ms/step - loss: 68.6531 - mean_absolute_percentage_error: 68.6531 - val_loss: 68.7660 - val_mean_absolute_percentage_error: 68.7660\n",
            "Epoch 9/100\n",
            "14/14 [==============================] - 0s 7ms/step - loss: 71.3075 - mean_absolute_percentage_error: 71.3075 - val_loss: 69.4039 - val_mean_absolute_percentage_error: 69.4039\n",
            "Epoch 10/100\n",
            "14/14 [==============================] - 0s 7ms/step - loss: 69.3414 - mean_absolute_percentage_error: 69.3414 - val_loss: 68.8345 - val_mean_absolute_percentage_error: 68.8345\n",
            "Epoch 11/100\n",
            "14/14 [==============================] - 0s 7ms/step - loss: 72.1511 - mean_absolute_percentage_error: 72.1511 - val_loss: 68.1390 - val_mean_absolute_percentage_error: 68.1390\n",
            "Epoch 12/100\n",
            "14/14 [==============================] - 0s 8ms/step - loss: 70.4948 - mean_absolute_percentage_error: 70.4948 - val_loss: 69.9750 - val_mean_absolute_percentage_error: 69.9750\n",
            "Epoch 13/100\n",
            "14/14 [==============================] - 0s 7ms/step - loss: 71.3922 - mean_absolute_percentage_error: 71.3922 - val_loss: 68.3540 - val_mean_absolute_percentage_error: 68.3540\n",
            "Epoch 14/100\n",
            "14/14 [==============================] - 0s 8ms/step - loss: 71.4238 - mean_absolute_percentage_error: 71.4238 - val_loss: 68.2518 - val_mean_absolute_percentage_error: 68.2518\n",
            "Epoch 15/100\n",
            "14/14 [==============================] - 0s 8ms/step - loss: 69.6675 - mean_absolute_percentage_error: 69.6675 - val_loss: 68.1785 - val_mean_absolute_percentage_error: 68.1785\n",
            "Epoch 16/100\n",
            "14/14 [==============================] - 0s 7ms/step - loss: 69.8204 - mean_absolute_percentage_error: 69.8204 - val_loss: 68.0045 - val_mean_absolute_percentage_error: 68.0045\n",
            "Epoch 17/100\n",
            "14/14 [==============================] - 0s 7ms/step - loss: 73.7025 - mean_absolute_percentage_error: 73.7025 - val_loss: 70.1047 - val_mean_absolute_percentage_error: 70.1047\n",
            "Epoch 18/100\n",
            "14/14 [==============================] - 0s 7ms/step - loss: 71.7322 - mean_absolute_percentage_error: 71.7322 - val_loss: 68.5065 - val_mean_absolute_percentage_error: 68.5065\n",
            "Epoch 19/100\n",
            "14/14 [==============================] - 0s 7ms/step - loss: 69.8284 - mean_absolute_percentage_error: 69.8284 - val_loss: 67.6262 - val_mean_absolute_percentage_error: 67.6262\n",
            "Epoch 20/100\n",
            "14/14 [==============================] - 0s 8ms/step - loss: 69.2138 - mean_absolute_percentage_error: 69.2138 - val_loss: 71.9672 - val_mean_absolute_percentage_error: 71.9672\n",
            "Epoch 21/100\n",
            "14/14 [==============================] - 0s 7ms/step - loss: 75.7749 - mean_absolute_percentage_error: 75.7749 - val_loss: 68.3826 - val_mean_absolute_percentage_error: 68.3826\n",
            "Epoch 22/100\n",
            "14/14 [==============================] - 0s 7ms/step - loss: 69.2047 - mean_absolute_percentage_error: 69.2047 - val_loss: 69.6878 - val_mean_absolute_percentage_error: 69.6878\n",
            "Epoch 23/100\n",
            "14/14 [==============================] - 0s 7ms/step - loss: 71.8143 - mean_absolute_percentage_error: 71.8143 - val_loss: 68.4961 - val_mean_absolute_percentage_error: 68.4961\n",
            "Epoch 24/100\n",
            "14/14 [==============================] - 0s 16ms/step - loss: 74.9877 - mean_absolute_percentage_error: 74.9877 - val_loss: 73.6870 - val_mean_absolute_percentage_error: 73.6870\n",
            "Epoch 25/100\n",
            "14/14 [==============================] - 0s 7ms/step - loss: 68.6806 - mean_absolute_percentage_error: 68.6806 - val_loss: 68.3349 - val_mean_absolute_percentage_error: 68.3349\n",
            "Epoch 26/100\n",
            "14/14 [==============================] - 0s 7ms/step - loss: 70.1617 - mean_absolute_percentage_error: 70.1617 - val_loss: 67.9314 - val_mean_absolute_percentage_error: 67.9314\n"
          ],
          "name": "stdout"
        }
      ]
    },
    {
      "cell_type": "markdown",
      "metadata": {
        "id": "JyXrXBFVQ-tL"
      },
      "source": [
        "The metric used in this problem to evaluate the performance is the same we used for training the model, the mean absolute percentage error. Mean absolute percentage error is defined as $\\frac{100}{n} \\sum_n \\frac{|\\hat{y} - y|}{|y|}$ where $y$ is the ground-truth, $\\hat{y}$ is the estimation of the model and `n` the number of elements in the set we are evaluating."
      ]
    },
    {
      "cell_type": "markdown",
      "metadata": {
        "id": "WrrgqSiWEIDU"
      },
      "source": [
        "### Data Represenation"
      ]
    },
    {
      "cell_type": "code",
      "metadata": {
        "id": "M8ox4HuM1Hua"
      },
      "source": [
        "print(history.history.keys())"
      ],
      "execution_count": null,
      "outputs": []
    },
    {
      "cell_type": "code",
      "metadata": {
        "id": "u2u2qQh90C3K",
        "colab": {
          "base_uri": "https://localhost:8080/"
        },
        "outputId": "f659e5d8-e5b0-4df5-8c43-0e94e9ebc288"
      },
      "source": [
        "prices_predicted = model.predict(X_val).flatten()\n",
        "diff = ((prices_predicted - Y_val) / Y_val) * 100\n",
        "error_mean = np.mean(np.abs(diff))\n",
        "\n",
        "print(\"Predicting house prices - Estimation Error: {:.2f}%\".format(error_mean))\n"
      ],
      "execution_count": null,
      "outputs": [
        {
          "output_type": "stream",
          "text": [
            "Predicting house prices - Estimation Error: 67.62%\n"
          ],
          "name": "stdout"
        }
      ]
    },
    {
      "cell_type": "code",
      "metadata": {
        "colab": {
          "base_uri": "https://localhost:8080/",
          "height": 460
        },
        "id": "-qowEl3zlyev",
        "outputId": "2f73bee5-6313-4ca1-8baa-e28a6f9875c7"
      },
      "source": [
        "fig, axes = plt.subplots(2,figsize=(12, 6))\r\n",
        "\r\n",
        "fig.subplots_adjust(hspace=0.3)\r\n",
        "\r\n",
        "xmax=max(len(history.history['loss']),len(history2.history['loss']))\r\n",
        "\r\n",
        "plt.setp(axes[:], ylim=(0, 100))\r\n",
        "plt.setp(axes[:], xlim=(0,xmax))\r\n",
        "\r\n",
        "valData = mpatches.Patch(color='r', label='VGG Validation')\r\n",
        "trainData = mpatches.Patch(color='b',label='VGG Training')\r\n",
        "LNtrainData = mpatches.Patch(color='c',label='LeNet Training')\r\n",
        "LNminEstimationError=mpatches.Patch(color='y',label='LeNet Validation')\r\n",
        "minEstimationError=mpatches.Patch(color='g',label='Min Estimation Error')\r\n",
        "\r\n",
        "\r\n",
        "axes[1].legend(bbox_to_anchor=(0.5, -0.5), \r\n",
        "               loc='center',\r\n",
        "               handles=[trainData,valData,\r\n",
        "                        LNtrainData,LNminEstimationError,\r\n",
        "                        minEstimationError],\r\n",
        "               ncol=3)\r\n",
        "\r\n",
        "axes[0].set_title('Absolute % Error')\r\n",
        "axes[0].plot(history.history['mean_absolute_percentage_error'],'b',label=\"% Training Error\")\r\n",
        "axes[0].set_ylabel('Percentage Error')\r\n",
        "axes[0].plot(history.history['val_mean_absolute_percentage_error'],'r')\r\n",
        "# axes[0].set_xlabel('Epoch')\r\n",
        "\r\n",
        "axes[1].set_title('Loss')\r\n",
        "axes[1].plot(history.history['loss'], 'b')\r\n",
        "axes[1].plot(history.history['val_loss'], 'r')\r\n",
        "axes[1].set_ylabel('Loss')\r\n",
        "axes[1].set_xlabel('Epoch')\r\n",
        "\r\n",
        "axes[0].plot(history2.history['mean_absolute_percentage_error'],'c')\r\n",
        "axes[0].plot(history2.history['val_mean_absolute_percentage_error'],'y')\r\n",
        "axes[1].plot(history2.history['loss'], 'c')\r\n",
        "axes[1].plot(history2.history['val_loss'], 'y')\r\n",
        "\r\n",
        "axes[0].hlines(y=75,xmin=0,xmax=xmax,color='g')\r\n",
        "\r\n",
        "\r\n",
        "fig.patch.set_facecolor('xkcd:white')\r\n",
        "\r\n"
      ],
      "execution_count": null,
      "outputs": [
        {
          "output_type": "display_data",
          "data": {
            "image/png": "[encoded data removed]",
            "text/plain": [
              "<Figure size 864x432 with 2 Axes>"
            ]
          },
          "metadata": {
            "tags": []
          }
        }
      ]
    },
    {
      "cell_type": "code",
      "metadata": {
        "id": "wFDbZV6sMZsE",
        "colab": {
          "base_uri": "https://localhost:8080/",
          "height": 483
        },
        "outputId": "2347274e-78b4-458f-91cc-da755a22957e"
      },
      "source": [
        "fig, axes = plt.subplots(2,1,sharex='row')\r\n",
        "n_epoch=100\r\n",
        "# testScore[0]=[score[0]]*n_epoch\r\n",
        "# testScore[1]=[score[1]]*n_epoch\r\n",
        "\r\n",
        "fig.subplots_adjust(hspace=0.75)\r\n",
        "fig.subplots_adjust(wspace=0.25)\r\n",
        "\r\n",
        "\r\n",
        "# Setting the values for all axes.\r\n",
        "plt.setp(axes[0,:], ylim=(0, 100))\r\n",
        "plt.setp(axes[1,:], ylim=(0, 150))\r\n",
        "\r\n",
        "# axes[0].plot(testScore[0],'r')\r\n",
        "axes[0][0].plot(history.history['mean_absolute_percentage_error'],'b')\r\n",
        "axes[0][0].set_title('Average % Error')\r\n",
        "axes[0][0].set_ylabel('Percentage Error')\r\n",
        "axes[0][0].set_xlabel('Epoch')\r\n",
        "\r\n",
        "\r\n",
        "axes[0][1].plot(history.history['val_mean_absolute_percentage_error'],'r')\r\n",
        "axes[0][1].set_title('Val Average % Error')\r\n",
        "axes[0][1].set_xlabel('Epoch')\r\n",
        "\r\n",
        "\r\n",
        "# axes[1].plot(testScore[1],'r')\r\n",
        "axes[1][0].plot(history.history['loss'], 'b')\r\n",
        "axes[1][0].set_title('Training Loss')\r\n",
        "axes[1][0].set_ylabel('Loss')\r\n",
        "axes[1][0].set_xlabel('Epoch')\r\n",
        "\r\n",
        "axes[1][1].plot(history.history['val_loss'], 'r')\r\n",
        "axes[1][1].set_title('Validation Loss')\r\n",
        "axes[1][1].set_xlabel('Epoch')\r\n",
        "\r\n",
        "\r\n"
      ],
      "execution_count": null,
      "outputs": [
        {
          "output_type": "error",
          "ename": "TypeError",
          "evalue": "ignored",
          "traceback": [
            "\u001b[0;31m---------------------------------------------------------------------------\u001b[0m",
            "\u001b[0;31mTypeError\u001b[0m                                 Traceback (most recent call last)",
            "\u001b[0;32m<ipython-input-11-e6165a0c4f01>\u001b[0m in \u001b[0;36m<module>\u001b[0;34m()\u001b[0m\n\u001b[1;32m     13\u001b[0m \u001b[0;34m\u001b[0m\u001b[0m\n\u001b[1;32m     14\u001b[0m \u001b[0;31m# axes[0].plot(testScore[0],'r')\u001b[0m\u001b[0;34m\u001b[0m\u001b[0;34m\u001b[0m\u001b[0;34m\u001b[0m\u001b[0m\n\u001b[0;32m---> 15\u001b[0;31m \u001b[0maxes\u001b[0m\u001b[0;34m[\u001b[0m\u001b[0;36m0\u001b[0m\u001b[0;34m]\u001b[0m\u001b[0;34m[\u001b[0m\u001b[0;36m0\u001b[0m\u001b[0;34m]\u001b[0m\u001b[0;34m.\u001b[0m\u001b[0mplot\u001b[0m\u001b[0;34m(\u001b[0m\u001b[0mhistory\u001b[0m\u001b[0;34m.\u001b[0m\u001b[0mhistory\u001b[0m\u001b[0;34m[\u001b[0m\u001b[0;34m'mean_absolute_percentage_error'\u001b[0m\u001b[0;34m]\u001b[0m\u001b[0;34m,\u001b[0m\u001b[0;34m'b'\u001b[0m\u001b[0;34m)\u001b[0m\u001b[0;34m\u001b[0m\u001b[0;34m\u001b[0m\u001b[0m\n\u001b[0m\u001b[1;32m     16\u001b[0m \u001b[0maxes\u001b[0m\u001b[0;34m[\u001b[0m\u001b[0;36m0\u001b[0m\u001b[0;34m]\u001b[0m\u001b[0;34m[\u001b[0m\u001b[0;36m0\u001b[0m\u001b[0;34m]\u001b[0m\u001b[0;34m.\u001b[0m\u001b[0mset_title\u001b[0m\u001b[0;34m(\u001b[0m\u001b[0;34m'Average % Error'\u001b[0m\u001b[0;34m)\u001b[0m\u001b[0;34m\u001b[0m\u001b[0;34m\u001b[0m\u001b[0m\n\u001b[1;32m     17\u001b[0m \u001b[0maxes\u001b[0m\u001b[0;34m[\u001b[0m\u001b[0;36m0\u001b[0m\u001b[0;34m]\u001b[0m\u001b[0;34m[\u001b[0m\u001b[0;36m0\u001b[0m\u001b[0;34m]\u001b[0m\u001b[0;34m.\u001b[0m\u001b[0mset_ylabel\u001b[0m\u001b[0;34m(\u001b[0m\u001b[0;34m'Percentage Error'\u001b[0m\u001b[0;34m)\u001b[0m\u001b[0;34m\u001b[0m\u001b[0;34m\u001b[0m\u001b[0m\n",
            "\u001b[0;31mTypeError\u001b[0m: 'AxesSubplot' object does not support indexing"
          ]
        },
        {
          "output_type": "display_data",
          "data": {
            "image/png": "[encoded data removed]",
            "text/plain": [
              "<Figure size 432x288 with 2 Axes>"
            ]
          },
          "metadata": {
            "tags": [],
            "needs_background": "light"
          }
        }
      ]
    },
    {
      "cell_type": "markdown",
      "metadata": {
        "id": "n2uJs6-xG6lD"
      },
      "source": [
        "**Report**:\n",
        "\n",
        "\n",
        "*   Propose a CNN architecture that has an estimation error in the validation set below 75%. \n",
        "*   Present a figure showing the training and validation loss vs the number of training iterations for different architectural design choices. Discuss the gap between the training and validation loss depending on the proposed architecture.\n",
        "*   Report a table with results when using any of the other images from the house (kitchen, bedroom, and bathroom)."
      ]
    },
    {
      "cell_type": "markdown",
      "metadata": {
        "id": "WexVeE-iM07M"
      },
      "source": [
        "# Regression but average over 10 runs \r\n"
      ]
    },
    {
      "cell_type": "code",
      "metadata": {
        "colab": {
          "base_uri": "https://localhost:8080/"
        },
        "id": "i9mM0mJXaKFx",
        "outputId": "34f409e1-400b-46ed-8d8d-dd540a9b7032"
      },
      "source": [
        "# Download data\r\n",
        "!git clone https://github.com/emanhamed/Houses-dataset\r\n",
        "%cd /content/Houses-dataset/Houses\\ Dataset"
      ],
      "execution_count": null,
      "outputs": [
        {
          "output_type": "stream",
          "text": [
            "Cloning into 'Houses-dataset'...\n",
            "remote: Enumerating objects: 2166, done.\u001b[K\n",
            "remote: Total 2166 (delta 0), reused 0 (delta 0), pack-reused 2166\u001b[K\n",
            "Receiving objects: 100% (2166/2166), 176.26 MiB | 48.82 MiB/s, done.\n",
            "Resolving deltas: 100% (20/20), done.\n",
            "/content/Houses-dataset/Houses Dataset\n"
          ],
          "name": "stdout"
        }
      ]
    },
    {
      "cell_type": "code",
      "metadata": {
        "id": "KSaLggnIS6bS"
      },
      "source": [
        "def load_data(house_section):\r\n",
        "    import cv2\r\n",
        "    import numpy as np\r\n",
        "    import matplotlib.pyplot as plt\r\n",
        "    from numpy.random import seed\r\n",
        "    images = []\r\n",
        "    for i_im in range(1, 536):\r\n",
        "      image = cv2.imread(str(i_im)+'_'+house_section+'.jpg')\r\n",
        "      image = cv2.resize(image, (64, 64))\r\n",
        "      images.append(image)\r\n",
        "\r\n",
        "    labels = []\r\n",
        "    f = open('HousesInfo.txt', \"r\")\r\n",
        "    for x in f:\r\n",
        "      label = (x).split(' ')[-1].split('\\n')[0]\r\n",
        "      labels.append(label)\r\n",
        "\r\n",
        "    seed(1234)\r\n",
        "    images = np.asarray(images).astype('float32')\r\n",
        "    labels = np.asarray(labels).astype('float32')\r\n",
        "\r\n",
        "    # Normalize the image\r\n",
        "    max_price = labels.max()\r\n",
        "    images /= 255.\r\n",
        "    labels /= max_price\r\n",
        "\r\n",
        "    random_idx = np.random.permutation(len(images))\r\n",
        "    images = images[random_idx]\r\n",
        "    labels = labels[random_idx]\r\n",
        "\r\n",
        "    split_size_val = int(0.8*len(images))\r\n",
        "    X_train, X_val = images[:split_size_val], images[split_size_val+1:]\r\n",
        "    Y_train, Y_val = labels[:split_size_val], labels[split_size_val+1:]\r\n",
        "\r\n",
        "    # # Print shape of training and test images \r\n",
        "    # print('X_train image shape: {0}'.format(X_train.shape))\r\n",
        "    # print('X_val image shape: {0}'.format(X_val.shape))\r\n",
        "\r\n",
        "    # # Print shape of training and test labels \r\n",
        "    # print('Y_train labels shape: {0}'.format(Y_train.shape))\r\n",
        "    # print('Y_val labels shape: {0}'.format(Y_val.shape))\r\n",
        "\r\n",
        "\r\n",
        "    # print('Input shape: {0}\\n'.format(X_train.shape[1:]))\r\n",
        "\r\n",
        "    return X_train, X_val, Y_train, Y_val;\r\n"
      ],
      "execution_count": null,
      "outputs": []
    },
    {
      "cell_type": "code",
      "metadata": {
        "id": "sMUBHmUQGmHo"
      },
      "source": [
        "def load_model_LeNet5():\r\n",
        "    # . . . \r\n",
        "    nb_filter =64\r\n",
        "    kernal_size=(5,5)\r\n",
        "    pool_size=(2,2)\r\n",
        "    # . . . \r\n",
        "\r\n",
        "    model.add(Conv2D(6, kernal_size, input_shape=X_train.shape[1:]))\r\n",
        "    model.add(Activation('relu'))\r\n",
        "    model.add(AveragePooling2D(pool_size))\r\n",
        "\r\n",
        "\r\n",
        "    model.add(Conv2D(16, kernal_size))\r\n",
        "    model.add(Activation('relu'))\r\n",
        "    model.add(AveragePooling2D(pool_size))\r\n",
        "\r\n",
        "\r\n",
        "    model.add(Flatten())\r\n",
        "\r\n",
        "    model.add(Dense(120))\r\n",
        "    model.add(Activation('relu'))\r\n",
        "\r\n",
        "    model.add(Dense(84))\r\n",
        "    model.add(Activation('relu'))\r\n",
        "\r\n",
        "    model.add(Dense(1))\r\n",
        "    model.add(Activation('linear'))"
      ],
      "execution_count": null,
      "outputs": []
    },
    {
      "cell_type": "code",
      "metadata": {
        "id": "lgeYcH-hI5pQ"
      },
      "source": [
        "def load_model_VGG5():\r\n",
        "    # . . . \r\n",
        "    nb_filter =64\r\n",
        "    kernal_size=(3,3)\r\n",
        "    pool_size=(2,2)\r\n",
        "    # . . . \r\n",
        "\r\n",
        "    # OG MODEL\r\n",
        "    model.add(Conv2D(nb_filter, kernal_size, padding='same', input_shape=X_train.shape[1:]))\r\n",
        "    model.add(Activation('relu'))\r\n",
        "    model.add(Conv2D(nb_filter, kernal_size, padding='same'))\r\n",
        "    model.add(Activation('relu'))\r\n",
        "    model.add(MaxPooling2D(pool_size))\r\n",
        "\r\n",
        "\r\n",
        "    model.add(Conv2D(nb_filter*2, kernal_size, padding='same'))\r\n",
        "    model.add(Activation('relu'))\r\n",
        "    model.add(Conv2D(nb_filter*2, kernal_size, padding='same'))\r\n",
        "    model.add(Activation('relu'))\r\n",
        "    model.add(MaxPooling2D(pool_size))\r\n",
        "\r\n",
        "\r\n",
        "    model.add(Flatten())\r\n",
        "\r\n",
        "    # model.add(Dense(nb_filter))\r\n",
        "    # model.add(Activation('relu'))\r\n",
        "\r\n",
        "\r\n",
        "    model.add(Dense(1))\r\n",
        "    model.add(Activation('linear'))"
      ],
      "execution_count": null,
      "outputs": []
    },
    {
      "cell_type": "code",
      "metadata": {
        "colab": {
          "base_uri": "https://localhost:8080/"
        },
        "id": "fweY0YeKM6tD",
        "outputId": "88b8cddd-e25f-482e-b19a-0dfc80fa04dd"
      },
      "source": [
        "import cv2 \r\n",
        "import numpy as np\r\n",
        "import matplotlib.pyplot as plt\r\n",
        "from numpy.random import seed\r\n",
        "import tensorflow as tf\r\n",
        "tf.compat.v1.logging.set_verbosity(tf.compat.v1.logging.ERROR)\r\n",
        "from keras.models import Sequential, Model\r\n",
        "from keras.layers import Dense, Activation\r\n",
        "from keras.utils import np_utils\r\n",
        "from keras.optimizers import Adam\r\n",
        "from keras.optimizers import RMSprop\r\n",
        "from keras.layers import Conv2D, MaxPooling2D, Flatten, AveragePooling2D, Dropout, LeakyReLU\r\n",
        "from keras.callbacks import EarlyStopping\r\n",
        "import matplotlib.pyplot as plt\r\n",
        "import matplotlib.patches as mpatches\r\n",
        "from keras import models\r\n",
        "\r\n",
        "no_iterations=25\r\n",
        "\r\n",
        "\r\n",
        "# house_section = 'frontal' # select between: kitchen, frontal, bedroom or bathroom\r\n",
        "sections = {} \r\n",
        "sections[\"frontal\"] = [] \r\n",
        "sections[\"kitchen\"] = []\r\n",
        "sections[\"bedroom\"] = []\r\n",
        "sections[\"bathroom\"] = []\r\n",
        "\r\n",
        "# trainErrorList = {x:valErrorList[x] for x in valErrorList}\r\n",
        "history = []\r\n",
        "trainErrorList = []\r\n",
        "valErrorList = []\r\n",
        "\r\n",
        "# valErrorList = [['frontal','kitchen','bedroom','bathroom'],[],[],[],[]]\r\n",
        "# trainErrorList = [['frontal','kitchen','bedroom','bathroom'],[],[],[],[]]\r\n",
        "\r\n",
        "for modelType in range (0,1):\r\n",
        "    print('\\n\\t We have selected Model: {}\\n'.format(modelType))\r\n",
        "    history.append({x:sections[x] for x in sections})\r\n",
        "    trainErrorList.append({x:sections[x] for x in sections})\r\n",
        "    valErrorList.append({x:sections[x] for x in sections})\r\n",
        "    for choice in sections:\r\n",
        "        house_section = choice\r\n",
        "        print('We have selected {} images. You can switch to the kitchen, frontal, bedroom or bathroom images by changing house_section variable.'.format(house_section))\r\n",
        "        trainErrorList[modelType][choice]=[]\r\n",
        "        valErrorList[modelType][choice]=[]\r\n",
        "        history[modelType][choice]=[]\r\n",
        "\r\n",
        "        for iteration in range (0,no_iterations):\r\n",
        "            print('\\n\\t Iteration {}\\n'.format(iteration))\r\n",
        "\r\n",
        "\r\n",
        "            tf.keras.backend.clear_session()\r\n",
        "\r\n",
        "\r\n",
        "            X_train, X_val, Y_train, Y_val = load_data(house_section)\r\n",
        "\r\n",
        "\r\n",
        "            chanDim = -1\r\n",
        "            # . . . \r\n",
        "            model = Sequential()\r\n",
        "\r\n",
        "            # if modelType == 0:\r\n",
        "            #   load_model_VGG5()\r\n",
        "            # else:\r\n",
        "            #   load_model_LeNet5()\r\n",
        "\r\n",
        "            load_model_LeNet5()\r\n",
        "            if iteration == 0:\r\n",
        "              model.summary()\r\n",
        "            # . . . \r\n",
        "\r\n",
        "          \r\n",
        "\r\n",
        "            # Modeling \r\n",
        "\r\n",
        "            opt = Adam(lr=1e-3, decay=1e-3 / 200)\r\n",
        "            model.compile(loss=\"mean_absolute_percentage_error\", \r\n",
        "                          optimizer=opt, \r\n",
        "                          metrics=['mean_absolute_percentage_error'])\r\n",
        "\r\n",
        "            early_stopping = EarlyStopping(monitor='val_mean_absolute_percentage_error',\r\n",
        "                                          restore_best_weights=True, \r\n",
        "                                          patience=25)\r\n",
        "\r\n",
        "            # train the model\r\n",
        "            print(\"[INFO] training model...\")\r\n",
        "            history[modelType][choice].append(model.fit(X_train, Y_train, validation_data=(X_val, Y_val), \r\n",
        "                                epochs=100, \r\n",
        "                                batch_size=32,\r\n",
        "                                verbose=0,\r\n",
        "                                callbacks=[early_stopping]))\r\n",
        "\r\n",
        "\r\n",
        "            # Getting results\r\n",
        "            prices_predicted_training = model.predict(X_train).flatten()\r\n",
        "            diff_training = ((prices_predicted_training - Y_train) / Y_train) * 100\r\n",
        "            error_mean_training = np.mean(np.abs(diff_training))\r\n",
        "\r\n",
        "            prices_predicted = model.predict(X_val).flatten()\r\n",
        "            diff = ((prices_predicted - Y_val) / Y_val) * 100\r\n",
        "            error_mean = np.mean(np.abs(diff))\r\n",
        "\r\n",
        "            # Storing results\r\n",
        "            trainErrorList[modelType][choice].append(error_mean_training)\r\n",
        "\r\n",
        "            valErrorList[modelType][choice].append(error_mean)\r\n",
        "\r\n",
        "            print(\"\\nPredicitng house prices - Training Error: {:.2f}%\".format(error_mean_training))\r\n",
        "            print(\"Predicting house prices - Validation Error: {:.2f}%\\n\".format(error_mean))\r\n",
        "\r\n",
        "\r\n",
        "print('\\nFinish')"
      ],
      "execution_count": null,
      "outputs": [
        {
          "output_type": "stream",
          "text": [
            "\n",
            "\t We have selected Model: 0\n",
            "\n",
            "We have selected frontal images. You can switch to the kitchen, frontal, bedroom or bathroom images by changing house_section variable.\n",
            "\n",
            "\t Iteration 0\n",
            "\n",
            "Model: \"sequential\"\n",
            "_________________________________________________________________\n",
            "Layer (type)                 Output Shape              Param #   \n",
            "=================================================================\n",
            "conv2d (Conv2D)              (None, 60, 60, 6)         456       \n",
            "_________________________________________________________________\n",
            "activation (Activation)      (None, 60, 60, 6)         0         \n",
            "_________________________________________________________________\n",
            "average_pooling2d (AveragePo (None, 30, 30, 6)         0         \n",
            "_________________________________________________________________\n",
            "conv2d_1 (Conv2D)            (None, 26, 26, 16)        2416      \n",
            "_________________________________________________________________\n",
            "activation_1 (Activation)    (None, 26, 26, 16)        0         \n",
            "_________________________________________________________________\n",
            "average_pooling2d_1 (Average (None, 13, 13, 16)        0         \n",
            "_________________________________________________________________\n",
            "flatten (Flatten)            (None, 2704)              0         \n",
            "_________________________________________________________________\n",
            "dense (Dense)                (None, 120)               324600    \n",
            "_________________________________________________________________\n",
            "activation_2 (Activation)    (None, 120)               0         \n",
            "_________________________________________________________________\n",
            "dense_1 (Dense)              (None, 84)                10164     \n",
            "_________________________________________________________________\n",
            "activation_3 (Activation)    (None, 84)                0         \n",
            "_________________________________________________________________\n",
            "dense_2 (Dense)              (None, 1)                 85        \n",
            "_________________________________________________________________\n",
            "activation_4 (Activation)    (None, 1)                 0         \n",
            "=================================================================\n",
            "Total params: 337,721\n",
            "Trainable params: 337,721\n",
            "Non-trainable params: 0\n",
            "_________________________________________________________________\n",
            "[INFO] training model...\n",
            "\n",
            "Predicitng house prices - Training Error: 47.20%\n",
            "Predicting house prices - Validation Error: 53.90%\n",
            "\n",
            "\n",
            "\t Iteration 1\n",
            "\n",
            "[INFO] training model...\n",
            "\n",
            "Predicitng house prices - Training Error: 47.10%\n",
            "Predicting house prices - Validation Error: 54.46%\n",
            "\n",
            "\n",
            "\t Iteration 2\n",
            "\n",
            "[INFO] training model...\n",
            "\n",
            "Predicitng house prices - Training Error: 30.63%\n",
            "Predicting house prices - Validation Error: 57.59%\n",
            "\n",
            "\n",
            "\t Iteration 3\n",
            "\n",
            "[INFO] training model...\n",
            "\n",
            "Predicitng house prices - Training Error: 38.51%\n",
            "Predicting house prices - Validation Error: 50.74%\n",
            "\n",
            "\n",
            "\t Iteration 4\n",
            "\n",
            "[INFO] training model...\n",
            "\n",
            "Predicitng house prices - Training Error: 37.72%\n",
            "Predicting house prices - Validation Error: 56.31%\n",
            "\n",
            "\n",
            "\t Iteration 5\n",
            "\n",
            "[INFO] training model...\n",
            "\n",
            "Predicitng house prices - Training Error: 51.50%\n",
            "Predicting house prices - Validation Error: 61.33%\n",
            "\n",
            "\n",
            "\t Iteration 6\n",
            "\n",
            "[INFO] training model...\n",
            "\n",
            "Predicitng house prices - Training Error: 37.59%\n",
            "Predicting house prices - Validation Error: 53.53%\n",
            "\n",
            "\n",
            "\t Iteration 7\n",
            "\n",
            "[INFO] training model...\n",
            "\n",
            "Predicitng house prices - Training Error: 45.39%\n",
            "Predicting house prices - Validation Error: 57.01%\n",
            "\n",
            "\n",
            "\t Iteration 8\n",
            "\n",
            "[INFO] training model...\n",
            "\n",
            "Predicitng house prices - Training Error: 37.48%\n",
            "Predicting house prices - Validation Error: 58.88%\n",
            "\n",
            "\n",
            "\t Iteration 9\n",
            "\n",
            "[INFO] training model...\n",
            "\n",
            "Predicitng house prices - Training Error: 38.46%\n",
            "Predicting house prices - Validation Error: 56.01%\n",
            "\n",
            "\n",
            "\t Iteration 10\n",
            "\n",
            "[INFO] training model...\n",
            "\n",
            "Predicitng house prices - Training Error: 43.64%\n",
            "Predicting house prices - Validation Error: 58.66%\n",
            "\n",
            "\n",
            "\t Iteration 11\n",
            "\n",
            "[INFO] training model...\n",
            "\n",
            "Predicitng house prices - Training Error: 48.84%\n",
            "Predicting house prices - Validation Error: 54.43%\n",
            "\n",
            "\n",
            "\t Iteration 12\n",
            "\n",
            "[INFO] training model...\n",
            "\n",
            "Predicitng house prices - Training Error: 48.08%\n",
            "Predicting house prices - Validation Error: 59.37%\n",
            "\n",
            "\n",
            "\t Iteration 13\n",
            "\n",
            "[INFO] training model...\n",
            "\n",
            "Predicitng house prices - Training Error: 53.54%\n",
            "Predicting house prices - Validation Error: 59.51%\n",
            "\n",
            "\n",
            "\t Iteration 14\n",
            "\n",
            "[INFO] training model...\n",
            "\n",
            "Predicitng house prices - Training Error: 38.73%\n",
            "Predicting house prices - Validation Error: 53.15%\n",
            "\n",
            "\n",
            "\t Iteration 15\n",
            "\n",
            "[INFO] training model...\n",
            "\n",
            "Predicitng house prices - Training Error: 40.76%\n",
            "Predicting house prices - Validation Error: 53.08%\n",
            "\n",
            "\n",
            "\t Iteration 16\n",
            "\n",
            "[INFO] training model...\n",
            "\n",
            "Predicitng house prices - Training Error: 55.86%\n",
            "Predicting house prices - Validation Error: 61.17%\n",
            "\n",
            "\n",
            "\t Iteration 17\n",
            "\n",
            "[INFO] training model...\n",
            "\n",
            "Predicitng house prices - Training Error: 45.12%\n",
            "Predicting house prices - Validation Error: 53.83%\n",
            "\n",
            "\n",
            "\t Iteration 18\n",
            "\n",
            "[INFO] training model...\n",
            "\n",
            "Predicitng house prices - Training Error: 28.44%\n",
            "Predicting house prices - Validation Error: 56.30%\n",
            "\n",
            "\n",
            "\t Iteration 19\n",
            "\n",
            "[INFO] training model...\n",
            "\n",
            "Predicitng house prices - Training Error: 36.81%\n",
            "Predicting house prices - Validation Error: 56.44%\n",
            "\n",
            "\n",
            "\t Iteration 20\n",
            "\n",
            "[INFO] training model...\n",
            "\n",
            "Predicitng house prices - Training Error: 45.80%\n",
            "Predicting house prices - Validation Error: 54.86%\n",
            "\n",
            "\n",
            "\t Iteration 21\n",
            "\n",
            "[INFO] training model...\n",
            "\n",
            "Predicitng house prices - Training Error: 55.32%\n",
            "Predicting house prices - Validation Error: 62.21%\n",
            "\n",
            "\n",
            "\t Iteration 22\n",
            "\n",
            "[INFO] training model...\n",
            "\n",
            "Predicitng house prices - Training Error: 43.88%\n",
            "Predicting house prices - Validation Error: 58.00%\n",
            "\n",
            "\n",
            "\t Iteration 23\n",
            "\n",
            "[INFO] training model...\n",
            "\n",
            "Predicitng house prices - Training Error: 40.53%\n",
            "Predicting house prices - Validation Error: 58.73%\n",
            "\n",
            "\n",
            "\t Iteration 24\n",
            "\n",
            "[INFO] training model...\n",
            "\n",
            "Predicitng house prices - Training Error: 41.66%\n",
            "Predicting house prices - Validation Error: 54.68%\n",
            "\n",
            "We have selected kitchen images. You can switch to the kitchen, frontal, bedroom or bathroom images by changing house_section variable.\n",
            "\n",
            "\t Iteration 0\n",
            "\n",
            "Model: \"sequential\"\n",
            "_________________________________________________________________\n",
            "Layer (type)                 Output Shape              Param #   \n",
            "=================================================================\n",
            "conv2d (Conv2D)              (None, 60, 60, 6)         456       \n",
            "_________________________________________________________________\n",
            "activation (Activation)      (None, 60, 60, 6)         0         \n",
            "_________________________________________________________________\n",
            "average_pooling2d (AveragePo (None, 30, 30, 6)         0         \n",
            "_________________________________________________________________\n",
            "conv2d_1 (Conv2D)            (None, 26, 26, 16)        2416      \n",
            "_________________________________________________________________\n",
            "activation_1 (Activation)    (None, 26, 26, 16)        0         \n",
            "_________________________________________________________________\n",
            "average_pooling2d_1 (Average (None, 13, 13, 16)        0         \n",
            "_________________________________________________________________\n",
            "flatten (Flatten)            (None, 2704)              0         \n",
            "_________________________________________________________________\n",
            "dense (Dense)                (None, 120)               324600    \n",
            "_________________________________________________________________\n",
            "activation_2 (Activation)    (None, 120)               0         \n",
            "_________________________________________________________________\n",
            "dense_1 (Dense)              (None, 84)                10164     \n",
            "_________________________________________________________________\n",
            "activation_3 (Activation)    (None, 84)                0         \n",
            "_________________________________________________________________\n",
            "dense_2 (Dense)              (None, 1)                 85        \n",
            "_________________________________________________________________\n",
            "activation_4 (Activation)    (None, 1)                 0         \n",
            "=================================================================\n",
            "Total params: 337,721\n",
            "Trainable params: 337,721\n",
            "Non-trainable params: 0\n",
            "_________________________________________________________________\n",
            "[INFO] training model...\n",
            "\n",
            "Predicitng house prices - Training Error: 36.49%\n",
            "Predicting house prices - Validation Error: 53.29%\n",
            "\n",
            "\n",
            "\t Iteration 1\n",
            "\n",
            "[INFO] training model...\n",
            "\n",
            "Predicitng house prices - Training Error: 58.85%\n",
            "Predicting house prices - Validation Error: 52.78%\n",
            "\n",
            "\n",
            "\t Iteration 2\n",
            "\n",
            "[INFO] training model...\n",
            "\n",
            "Predicitng house prices - Training Error: 43.93%\n",
            "Predicting house prices - Validation Error: 52.15%\n",
            "\n",
            "\n",
            "\t Iteration 3\n",
            "\n",
            "[INFO] training model...\n",
            "\n",
            "Predicitng house prices - Training Error: 49.43%\n",
            "Predicting house prices - Validation Error: 53.39%\n",
            "\n",
            "\n",
            "\t Iteration 4\n",
            "\n",
            "[INFO] training model...\n",
            "\n",
            "Predicitng house prices - Training Error: 46.29%\n",
            "Predicting house prices - Validation Error: 52.32%\n",
            "\n",
            "\n",
            "\t Iteration 5\n",
            "\n",
            "[INFO] training model...\n",
            "\n",
            "Predicitng house prices - Training Error: 40.74%\n",
            "Predicting house prices - Validation Error: 48.79%\n",
            "\n",
            "\n",
            "\t Iteration 6\n",
            "\n",
            "[INFO] training model...\n",
            "\n",
            "Predicitng house prices - Training Error: 57.08%\n",
            "Predicting house prices - Validation Error: 53.57%\n",
            "\n",
            "\n",
            "\t Iteration 7\n",
            "\n",
            "[INFO] training model...\n",
            "\n",
            "Predicitng house prices - Training Error: 40.69%\n",
            "Predicting house prices - Validation Error: 52.31%\n",
            "\n",
            "\n",
            "\t Iteration 8\n",
            "\n",
            "[INFO] training model...\n",
            "\n",
            "Predicitng house prices - Training Error: 52.34%\n",
            "Predicting house prices - Validation Error: 52.65%\n",
            "\n",
            "\n",
            "\t Iteration 9\n",
            "\n",
            "[INFO] training model...\n",
            "\n",
            "Predicitng house prices - Training Error: 34.33%\n",
            "Predicting house prices - Validation Error: 51.92%\n",
            "\n",
            "\n",
            "\t Iteration 10\n",
            "\n",
            "[INFO] training model...\n",
            "\n",
            "Predicitng house prices - Training Error: 45.82%\n",
            "Predicting house prices - Validation Error: 54.19%\n",
            "\n",
            "\n",
            "\t Iteration 11\n",
            "\n",
            "[INFO] training model...\n",
            "\n",
            "Predicitng house prices - Training Error: 32.77%\n",
            "Predicting house prices - Validation Error: 50.89%\n",
            "\n",
            "\n",
            "\t Iteration 12\n",
            "\n",
            "[INFO] training model...\n",
            "\n",
            "Predicitng house prices - Training Error: 38.46%\n",
            "Predicting house prices - Validation Error: 52.75%\n",
            "\n",
            "\n",
            "\t Iteration 13\n",
            "\n",
            "[INFO] training model...\n",
            "\n",
            "Predicitng house prices - Training Error: 31.40%\n",
            "Predicting house prices - Validation Error: 52.14%\n",
            "\n",
            "\n",
            "\t Iteration 14\n",
            "\n",
            "[INFO] training model...\n",
            "\n",
            "Predicitng house prices - Training Error: 52.73%\n",
            "Predicting house prices - Validation Error: 51.92%\n",
            "\n",
            "\n",
            "\t Iteration 15\n",
            "\n",
            "[INFO] training model...\n",
            "\n",
            "Predicitng house prices - Training Error: 36.15%\n",
            "Predicting house prices - Validation Error: 50.98%\n",
            "\n",
            "\n",
            "\t Iteration 16\n",
            "\n",
            "[INFO] training model...\n",
            "\n",
            "Predicitng house prices - Training Error: 33.54%\n",
            "Predicting house prices - Validation Error: 51.67%\n",
            "\n",
            "\n",
            "\t Iteration 17\n",
            "\n",
            "[INFO] training model...\n",
            "\n",
            "Predicitng house prices - Training Error: 52.73%\n",
            "Predicting house prices - Validation Error: 56.24%\n",
            "\n",
            "\n",
            "\t Iteration 18\n",
            "\n",
            "[INFO] training model...\n",
            "\n",
            "Predicitng house prices - Training Error: 35.67%\n",
            "Predicting house prices - Validation Error: 52.67%\n",
            "\n",
            "\n",
            "\t Iteration 19\n",
            "\n",
            "[INFO] training model...\n",
            "\n",
            "Predicitng house prices - Training Error: 49.67%\n",
            "Predicting house prices - Validation Error: 51.79%\n",
            "\n",
            "\n",
            "\t Iteration 20\n",
            "\n",
            "[INFO] training model...\n",
            "\n",
            "Predicitng house prices - Training Error: 30.49%\n",
            "Predicting house prices - Validation Error: 52.51%\n",
            "\n",
            "\n",
            "\t Iteration 21\n",
            "\n",
            "[INFO] training model...\n",
            "\n",
            "Predicitng house prices - Training Error: 36.91%\n",
            "Predicting house prices - Validation Error: 53.80%\n",
            "\n",
            "\n",
            "\t Iteration 22\n",
            "\n",
            "[INFO] training model...\n",
            "\n",
            "Predicitng house prices - Training Error: 51.62%\n",
            "Predicting house prices - Validation Error: 51.77%\n",
            "\n",
            "\n",
            "\t Iteration 23\n",
            "\n",
            "[INFO] training model...\n",
            "\n",
            "Predicitng house prices - Training Error: 51.55%\n",
            "Predicting house prices - Validation Error: 53.27%\n",
            "\n",
            "\n",
            "\t Iteration 24\n",
            "\n",
            "[INFO] training model...\n",
            "\n",
            "Predicitng house prices - Training Error: 39.16%\n",
            "Predicting house prices - Validation Error: 53.09%\n",
            "\n",
            "We have selected bedroom images. You can switch to the kitchen, frontal, bedroom or bathroom images by changing house_section variable.\n",
            "\n",
            "\t Iteration 0\n",
            "\n",
            "Model: \"sequential\"\n",
            "_________________________________________________________________\n",
            "Layer (type)                 Output Shape              Param #   \n",
            "=================================================================\n",
            "conv2d (Conv2D)              (None, 60, 60, 6)         456       \n",
            "_________________________________________________________________\n",
            "activation (Activation)      (None, 60, 60, 6)         0         \n",
            "_________________________________________________________________\n",
            "average_pooling2d (AveragePo (None, 30, 30, 6)         0         \n",
            "_________________________________________________________________\n",
            "conv2d_1 (Conv2D)            (None, 26, 26, 16)        2416      \n",
            "_________________________________________________________________\n",
            "activation_1 (Activation)    (None, 26, 26, 16)        0         \n",
            "_________________________________________________________________\n",
            "average_pooling2d_1 (Average (None, 13, 13, 16)        0         \n",
            "_________________________________________________________________\n",
            "flatten (Flatten)            (None, 2704)              0         \n",
            "_________________________________________________________________\n",
            "dense (Dense)                (None, 120)               324600    \n",
            "_________________________________________________________________\n",
            "activation_2 (Activation)    (None, 120)               0         \n",
            "_________________________________________________________________\n",
            "dense_1 (Dense)              (None, 84)                10164     \n",
            "_________________________________________________________________\n",
            "activation_3 (Activation)    (None, 84)                0         \n",
            "_________________________________________________________________\n",
            "dense_2 (Dense)              (None, 1)                 85        \n",
            "_________________________________________________________________\n",
            "activation_4 (Activation)    (None, 1)                 0         \n",
            "=================================================================\n",
            "Total params: 337,721\n",
            "Trainable params: 337,721\n",
            "Non-trainable params: 0\n",
            "_________________________________________________________________\n",
            "[INFO] training model...\n",
            "\n",
            "Predicitng house prices - Training Error: 63.12%\n",
            "Predicting house prices - Validation Error: 63.67%\n",
            "\n",
            "\n",
            "\t Iteration 1\n",
            "\n",
            "[INFO] training model...\n",
            "\n",
            "Predicitng house prices - Training Error: 42.10%\n",
            "Predicting house prices - Validation Error: 59.48%\n",
            "\n",
            "\n",
            "\t Iteration 2\n",
            "\n",
            "[INFO] training model...\n",
            "\n",
            "Predicitng house prices - Training Error: 38.60%\n",
            "Predicting house prices - Validation Error: 55.01%\n",
            "\n",
            "\n",
            "\t Iteration 3\n",
            "\n",
            "[INFO] training model...\n",
            "\n",
            "Predicitng house prices - Training Error: 68.59%\n",
            "Predicting house prices - Validation Error: 63.77%\n",
            "\n",
            "\n",
            "\t Iteration 4\n",
            "\n",
            "[INFO] training model...\n",
            "\n",
            "Predicitng house prices - Training Error: 60.55%\n",
            "Predicting house prices - Validation Error: 64.51%\n",
            "\n",
            "\n",
            "\t Iteration 5\n",
            "\n",
            "[INFO] training model...\n",
            "\n",
            "Predicitng house prices - Training Error: 66.55%\n",
            "Predicting house prices - Validation Error: 64.57%\n",
            "\n",
            "\n",
            "\t Iteration 6\n",
            "\n",
            "[INFO] training model...\n",
            "\n",
            "Predicitng house prices - Training Error: 62.46%\n",
            "Predicting house prices - Validation Error: 62.52%\n",
            "\n",
            "\n",
            "\t Iteration 7\n",
            "\n",
            "[INFO] training model...\n",
            "\n",
            "Predicitng house prices - Training Error: 67.35%\n",
            "Predicting house prices - Validation Error: 61.30%\n",
            "\n",
            "\n",
            "\t Iteration 8\n",
            "\n",
            "[INFO] training model...\n",
            "\n",
            "Predicitng house prices - Training Error: 64.57%\n",
            "Predicting house prices - Validation Error: 64.81%\n",
            "\n",
            "\n",
            "\t Iteration 9\n",
            "\n",
            "[INFO] training model...\n",
            "\n",
            "Predicitng house prices - Training Error: 43.58%\n",
            "Predicting house prices - Validation Error: 61.00%\n",
            "\n",
            "\n",
            "\t Iteration 10\n",
            "\n",
            "[INFO] training model...\n",
            "\n",
            "Predicitng house prices - Training Error: 47.55%\n",
            "Predicting house prices - Validation Error: 60.62%\n",
            "\n",
            "\n",
            "\t Iteration 11\n",
            "\n",
            "[INFO] training model...\n",
            "\n",
            "Predicitng house prices - Training Error: 70.84%\n",
            "Predicting house prices - Validation Error: 62.83%\n",
            "\n",
            "\n",
            "\t Iteration 12\n",
            "\n",
            "[INFO] training model...\n",
            "\n",
            "Predicitng house prices - Training Error: 65.69%\n",
            "Predicting house prices - Validation Error: 64.68%\n",
            "\n",
            "\n",
            "\t Iteration 13\n",
            "\n",
            "[INFO] training model...\n",
            "\n",
            "Predicitng house prices - Training Error: 67.82%\n",
            "Predicting house prices - Validation Error: 68.55%\n",
            "\n",
            "\n",
            "\t Iteration 14\n",
            "\n",
            "[INFO] training model...\n",
            "\n",
            "Predicitng house prices - Training Error: 38.73%\n",
            "Predicting house prices - Validation Error: 57.04%\n",
            "\n",
            "\n",
            "\t Iteration 15\n",
            "\n",
            "[INFO] training model...\n",
            "\n",
            "Predicitng house prices - Training Error: 68.48%\n",
            "Predicting house prices - Validation Error: 59.28%\n",
            "\n",
            "\n",
            "\t Iteration 16\n",
            "\n",
            "[INFO] training model...\n",
            "\n",
            "Predicitng house prices - Training Error: 42.29%\n",
            "Predicting house prices - Validation Error: 59.02%\n",
            "\n",
            "\n",
            "\t Iteration 17\n",
            "\n",
            "[INFO] training model...\n",
            "\n",
            "Predicitng house prices - Training Error: 66.70%\n",
            "Predicting house prices - Validation Error: 66.68%\n",
            "\n",
            "\n",
            "\t Iteration 18\n",
            "\n",
            "[INFO] training model...\n",
            "\n",
            "Predicitng house prices - Training Error: 62.01%\n",
            "Predicting house prices - Validation Error: 57.50%\n",
            "\n",
            "\n",
            "\t Iteration 19\n",
            "\n",
            "[INFO] training model...\n",
            "\n",
            "Predicitng house prices - Training Error: 29.92%\n",
            "Predicting house prices - Validation Error: 60.47%\n",
            "\n",
            "\n",
            "\t Iteration 20\n",
            "\n",
            "[INFO] training model...\n",
            "\n",
            "Predicitng house prices - Training Error: 58.58%\n",
            "Predicting house prices - Validation Error: 63.49%\n",
            "\n",
            "\n",
            "\t Iteration 21\n",
            "\n",
            "[INFO] training model...\n",
            "\n",
            "Predicitng house prices - Training Error: 62.19%\n",
            "Predicting house prices - Validation Error: 63.93%\n",
            "\n",
            "\n",
            "\t Iteration 22\n",
            "\n",
            "[INFO] training model...\n",
            "\n",
            "Predicitng house prices - Training Error: 73.00%\n",
            "Predicting house prices - Validation Error: 60.93%\n",
            "\n",
            "\n",
            "\t Iteration 23\n",
            "\n",
            "[INFO] training model...\n",
            "\n",
            "Predicitng house prices - Training Error: 34.18%\n",
            "Predicting house prices - Validation Error: 58.72%\n",
            "\n",
            "\n",
            "\t Iteration 24\n",
            "\n",
            "[INFO] training model...\n",
            "\n",
            "Predicitng house prices - Training Error: 61.99%\n",
            "Predicting house prices - Validation Error: 63.92%\n",
            "\n",
            "We have selected bathroom images. You can switch to the kitchen, frontal, bedroom or bathroom images by changing house_section variable.\n",
            "\n",
            "\t Iteration 0\n",
            "\n",
            "Model: \"sequential\"\n",
            "_________________________________________________________________\n",
            "Layer (type)                 Output Shape              Param #   \n",
            "=================================================================\n",
            "conv2d (Conv2D)              (None, 60, 60, 6)         456       \n",
            "_________________________________________________________________\n",
            "activation (Activation)      (None, 60, 60, 6)         0         \n",
            "_________________________________________________________________\n",
            "average_pooling2d (AveragePo (None, 30, 30, 6)         0         \n",
            "_________________________________________________________________\n",
            "conv2d_1 (Conv2D)            (None, 26, 26, 16)        2416      \n",
            "_________________________________________________________________\n",
            "activation_1 (Activation)    (None, 26, 26, 16)        0         \n",
            "_________________________________________________________________\n",
            "average_pooling2d_1 (Average (None, 13, 13, 16)        0         \n",
            "_________________________________________________________________\n",
            "flatten (Flatten)            (None, 2704)              0         \n",
            "_________________________________________________________________\n",
            "dense (Dense)                (None, 120)               324600    \n",
            "_________________________________________________________________\n",
            "activation_2 (Activation)    (None, 120)               0         \n",
            "_________________________________________________________________\n",
            "dense_1 (Dense)              (None, 84)                10164     \n",
            "_________________________________________________________________\n",
            "activation_3 (Activation)    (None, 84)                0         \n",
            "_________________________________________________________________\n",
            "dense_2 (Dense)              (None, 1)                 85        \n",
            "_________________________________________________________________\n",
            "activation_4 (Activation)    (None, 1)                 0         \n",
            "=================================================================\n",
            "Total params: 337,721\n",
            "Trainable params: 337,721\n",
            "Non-trainable params: 0\n",
            "_________________________________________________________________\n",
            "[INFO] training model...\n",
            "\n",
            "Predicitng house prices - Training Error: 42.52%\n",
            "Predicting house prices - Validation Error: 58.26%\n",
            "\n",
            "\n",
            "\t Iteration 1\n",
            "\n",
            "[INFO] training model...\n",
            "\n",
            "Predicitng house prices - Training Error: 47.18%\n",
            "Predicting house prices - Validation Error: 59.06%\n",
            "\n",
            "\n",
            "\t Iteration 2\n",
            "\n",
            "[INFO] training model...\n",
            "\n",
            "Predicitng house prices - Training Error: 69.92%\n",
            "Predicting house prices - Validation Error: 62.71%\n",
            "\n",
            "\n",
            "\t Iteration 3\n",
            "\n",
            "[INFO] training model...\n",
            "\n",
            "Predicitng house prices - Training Error: 49.76%\n",
            "Predicting house prices - Validation Error: 57.09%\n",
            "\n",
            "\n",
            "\t Iteration 4\n",
            "\n",
            "[INFO] training model...\n",
            "\n",
            "Predicitng house prices - Training Error: 35.33%\n",
            "Predicting house prices - Validation Error: 59.79%\n",
            "\n",
            "\n",
            "\t Iteration 5\n",
            "\n",
            "[INFO] training model...\n",
            "\n",
            "Predicitng house prices - Training Error: 45.54%\n",
            "Predicting house prices - Validation Error: 59.67%\n",
            "\n",
            "\n",
            "\t Iteration 6\n",
            "\n",
            "[INFO] training model...\n",
            "\n",
            "Predicitng house prices - Training Error: 57.05%\n",
            "Predicting house prices - Validation Error: 63.35%\n",
            "\n",
            "\n",
            "\t Iteration 7\n",
            "\n",
            "[INFO] training model...\n",
            "\n",
            "Predicitng house prices - Training Error: 46.30%\n",
            "Predicting house prices - Validation Error: 61.03%\n",
            "\n",
            "\n",
            "\t Iteration 8\n",
            "\n",
            "[INFO] training model...\n",
            "\n",
            "Predicitng house prices - Training Error: 56.46%\n",
            "Predicting house prices - Validation Error: 64.01%\n",
            "\n",
            "\n",
            "\t Iteration 9\n",
            "\n",
            "[INFO] training model...\n",
            "\n",
            "Predicitng house prices - Training Error: 29.53%\n",
            "Predicting house prices - Validation Error: 58.36%\n",
            "\n",
            "\n",
            "\t Iteration 10\n",
            "\n",
            "[INFO] training model...\n",
            "\n",
            "Predicitng house prices - Training Error: 50.02%\n",
            "Predicting house prices - Validation Error: 57.27%\n",
            "\n",
            "\n",
            "\t Iteration 11\n",
            "\n",
            "[INFO] training model...\n",
            "\n",
            "Predicitng house prices - Training Error: 50.44%\n",
            "Predicting house prices - Validation Error: 57.59%\n",
            "\n",
            "\n",
            "\t Iteration 12\n",
            "\n",
            "[INFO] training model...\n",
            "\n",
            "Predicitng house prices - Training Error: 50.03%\n",
            "Predicting house prices - Validation Error: 64.14%\n",
            "\n",
            "\n",
            "\t Iteration 13\n",
            "\n",
            "[INFO] training model...\n",
            "\n",
            "Predicitng house prices - Training Error: 51.27%\n",
            "Predicting house prices - Validation Error: 63.28%\n",
            "\n",
            "\n",
            "\t Iteration 14\n",
            "\n",
            "[INFO] training model...\n",
            "\n",
            "Predicitng house prices - Training Error: 51.42%\n",
            "Predicting house prices - Validation Error: 61.29%\n",
            "\n",
            "\n",
            "\t Iteration 15\n",
            "\n",
            "[INFO] training model...\n",
            "\n",
            "Predicitng house prices - Training Error: 51.72%\n",
            "Predicting house prices - Validation Error: 57.31%\n",
            "\n",
            "\n",
            "\t Iteration 16\n",
            "\n",
            "[INFO] training model...\n",
            "\n",
            "Predicitng house prices - Training Error: 68.27%\n",
            "Predicting house prices - Validation Error: 63.89%\n",
            "\n",
            "\n",
            "\t Iteration 17\n",
            "\n",
            "[INFO] training model...\n",
            "\n",
            "Predicitng house prices - Training Error: 51.86%\n",
            "Predicting house prices - Validation Error: 58.76%\n",
            "\n",
            "\n",
            "\t Iteration 18\n",
            "\n",
            "[INFO] training model...\n",
            "\n",
            "Predicitng house prices - Training Error: 40.26%\n",
            "Predicting house prices - Validation Error: 57.03%\n",
            "\n",
            "\n",
            "\t Iteration 19\n",
            "\n",
            "[INFO] training model...\n",
            "\n",
            "Predicitng house prices - Training Error: 54.90%\n",
            "Predicting house prices - Validation Error: 63.01%\n",
            "\n",
            "\n",
            "\t Iteration 20\n",
            "\n",
            "[INFO] training model...\n",
            "\n",
            "Predicitng house prices - Training Error: 50.10%\n",
            "Predicting house prices - Validation Error: 60.46%\n",
            "\n",
            "\n",
            "\t Iteration 21\n",
            "\n",
            "[INFO] training model...\n",
            "\n",
            "Predicitng house prices - Training Error: 72.46%\n",
            "Predicting house prices - Validation Error: 61.87%\n",
            "\n",
            "\n",
            "\t Iteration 22\n",
            "\n",
            "[INFO] training model...\n",
            "\n",
            "Predicitng house prices - Training Error: 55.89%\n",
            "Predicting house prices - Validation Error: 54.40%\n",
            "\n",
            "\n",
            "\t Iteration 23\n",
            "\n",
            "[INFO] training model...\n",
            "\n",
            "Predicitng house prices - Training Error: 56.60%\n",
            "Predicting house prices - Validation Error: 57.55%\n",
            "\n",
            "\n",
            "\t Iteration 24\n",
            "\n",
            "[INFO] training model...\n",
            "\n",
            "Predicitng house prices - Training Error: 51.63%\n",
            "Predicting house prices - Validation Error: 65.54%\n",
            "\n",
            "\n",
            "Finish\n"
          ],
          "name": "stdout"
        }
      ]
    },
    {
      "cell_type": "code",
      "metadata": {
        "colab": {
          "base_uri": "https://localhost:8080/"
        },
        "id": "vUzV5YENehmu",
        "outputId": "912d1bbb-9b7e-4a49-e9e0-483bc4ee65c7"
      },
      "source": [
        " print('List of Training Error:', trainErrorList[0]['frontal'])"
      ],
      "execution_count": null,
      "outputs": [
        {
          "output_type": "stream",
          "text": [
            "List of Training Error: [49.697994, 39.83591, 51.503086, 30.46441, 48.45375, 54.23499, 46.362507, 40.851704, 50.57285, 51.24036, 44.728355, 36.918217, 49.07943, 41.687668, 43.67037, 50.330574, 52.48738, 45.95855, 44.226963, 34.350338, 42.523266, 32.32712, 51.661358, 45.13791, 30.11242]\n"
          ],
          "name": "stdout"
        }
      ]
    },
    {
      "cell_type": "code",
      "metadata": {
        "colab": {
          "base_uri": "https://localhost:8080/"
        },
        "id": "FDTZCpeHPX3W",
        "outputId": "fd7b9199-8463-4e9d-dbce-af4289a20747"
      },
      "source": [
        "valErrorAVG=[]\r\n",
        "trainErrorAVG=[]\r\n",
        "\r\n",
        "\r\n",
        "for modelType in range (0,2):\r\n",
        "    print('Model:',modelType)\r\n",
        "    print('List of Training Error:', trainErrorList[modelType]['frontal'])\r\n",
        "    print('List of Validation Error:', valErrorList[modelType]['frontal'])\r\n",
        "\r\n",
        "    trainErrorAVG.append({x:sections[x] for x in sections})\r\n",
        "    valErrorAVG.append({x:sections[x] for x in sections})   \r\n",
        "\r\n",
        "\r\n",
        "    for choice in sections:   \r\n",
        "      trainErrorAVG[modelType][choice]=np.mean(trainErrorList[modelType][choice])\r\n",
        "      valErrorAVG[modelType][choice]=np.mean(valErrorList[modelType][choice])\r\n",
        "      \r\n",
        "\r\n",
        "\r\n",
        "print('VGG Average Trian Accuracy', trainErrorAVG[0])\r\n",
        "print('VGG Average Test Accuracy', valErrorAVG[0])\r\n",
        "\r\n",
        "print('LeNet Average Trian Accuracy', trainErrorAVG[1])\r\n",
        "print('LeNet Average Test Accuracy', valErrorAVG[1])\r\n",
        "\r\n",
        "ModelAVG=[0,0]\r\n",
        "for modelType in range (0,2):\r\n",
        "  for keys in valErrorAVG[modelType]:\r\n",
        "    ModelAVG[modelType]= ModelAVG[modelType] + valErrorAVG[modelType][keys]\r\n",
        "\r\n",
        "  ModelAVG[modelType]=ModelAVG[modelType]/(len(valErrorAVG[1].keys()))\r\n",
        "\r\n",
        "print('VGG Total Average: ',ModelAVG[0])\r\n",
        "print('LeNet Total  Average: ',ModelAVG[1])\r\n"
      ],
      "execution_count": null,
      "outputs": [
        {
          "output_type": "stream",
          "text": [
            "Model: 0\n",
            "List of Training Error: [49.697994, 39.83591, 51.503086, 30.46441, 48.45375, 54.23499, 46.362507, 40.851704, 50.57285, 51.24036, 44.728355, 36.918217, 49.07943, 41.687668, 43.67037, 50.330574, 52.48738, 45.95855, 44.226963, 34.350338, 42.523266, 32.32712, 51.661358, 45.13791, 30.11242]\n",
            "List of Validation Error: [52.379066, 54.817463, 52.196194, 49.95606, 52.229263, 55.370716, 53.71638, 53.892776, 51.694218, 55.107925, 52.960945, 51.78941, 52.92374, 56.219177, 52.44592, 53.914555, 53.02767, 54.433556, 56.099625, 50.13649, 52.04952, 54.493828, 54.350292, 53.39203, 52.27719]\n",
            "Model: 1\n",
            "List of Training Error: [34.298244, 46.709244, 52.713802, 39.915257, 47.90286, 45.215736, 49.02429, 47.951797, 43.572514, 42.975933, 42.704712, 53.815525, 52.304066, 52.971745, 52.854336, 44.97514, 35.768974, 40.27412, 42.686886, 40.22376, 37.30524, 42.77613, 54.73467, 48.545628, 51.58559]\n",
            "List of Validation Error: [55.22778, 52.982296, 56.215637, 50.81272, 52.310307, 54.3141, 52.321247, 53.523464, 58.867565, 53.02183, 56.941654, 56.573048, 53.65097, 55.82331, 48.130123, 52.561367, 51.410885, 59.363132, 53.909073, 56.68554, 52.357803, 55.77612, 56.295055, 54.784153, 51.508995]\n",
            "VGG Average Trian Accuracy {'frontal': 44.336693, 'kitchen': 39.06807, 'bedroom': 35.936142, 'bathroom': 42.14383}\n",
            "VGG Average Test Accuracy {'frontal': 53.27496, 'kitchen': 49.75676, 'bedroom': 49.516273, 'bathroom': 54.81899}\n",
            "LeNet Average Trian Accuracy {'frontal': 45.752247, 'kitchen': 41.234528, 'bedroom': 61.323746, 'bathroom': 52.54215}\n",
            "LeNet Average Test Accuracy {'frontal': 54.214725, 'kitchen': 52.618553, 'bedroom': 60.47948, 'bathroom': 58.35529}\n",
            "VGG Total Average:  51.841745376586914\n",
            "LeNet Total  Average:  56.417012214660645\n"
          ],
          "name": "stdout"
        }
      ]
    },
    {
      "cell_type": "code",
      "metadata": {
        "colab": {
          "base_uri": "https://localhost:8080/"
        },
        "id": "SI_wuM6iWwXd",
        "outputId": "5bd49cba-f962-4cc6-f756-2bd70df2cb1a"
      },
      "source": [
        "print(history[0]['frontal'][3].history['loss'])\r\n",
        "print(history[1]['frontal'][14].history['loss'])"
      ],
      "execution_count": null,
      "outputs": [
        {
          "output_type": "stream",
          "text": [
            "[525.3851928710938, 73.88724517822266, 71.30322265625, 67.35851287841797, 73.52606964111328, 63.9456901550293, 73.11273193359375, 65.44620513916016, 59.1915168762207, 56.35337448120117, 55.43482971191406, 58.41579055786133, 55.12569046020508, 61.84345626831055, 58.55035400390625, 56.95771408081055, 64.3929214477539, 69.68659973144531, 63.21501159667969, 58.60383224487305, 54.705440521240234, 49.964698791503906, 57.32838439941406, 60.09996032714844, 51.3212890625, 49.813114166259766, 46.236488342285156, 46.38407516479492, 47.34324645996094, 43.92193603515625, 43.73311233520508, 48.054664611816406, 42.498565673828125, 40.207767486572266, 42.72026443481445, 41.39842224121094, 45.161407470703125, 38.849266052246094, 35.97733688354492, 39.359500885009766, 38.04620361328125, 37.38104248046875, 36.1602783203125, 35.20609664916992, 36.9363899230957, 33.946903228759766, 33.108856201171875, 33.12650680541992, 34.022125244140625, 31.88959503173828, 30.288572311401367, 33.71441650390625, 33.33832550048828, 31.18421745300293, 30.09455680847168, 28.23837661743164, 33.246402740478516, 27.00238037109375, 29.090085983276367, 26.33849334716797, 31.033828735351562, 26.60381507873535, 26.405473709106445, 27.833507537841797, 26.982643127441406, 30.219585418701172, 29.54209327697754, 28.50507926940918, 29.887056350708008, 29.055082321166992, 27.22991371154785, 29.09223747253418, 25.91909408569336, 25.170955657958984, 24.105810165405273, 26.472270965576172, 27.088916778564453, 24.9058895111084, 26.730255126953125]\n",
            "[146.5738067626953, 72.68435668945312, 66.2789077758789, 68.54390716552734, 68.05160522460938, 62.58293533325195, 65.80645751953125, 62.23387145996094, 62.11737823486328, 63.69047546386719, 68.73644256591797, 68.95038604736328, 63.124488830566406, 57.21542739868164, 54.97793960571289, 57.47492599487305, 52.20265197753906, 53.44178009033203, 53.30174255371094, 50.79634094238281, 51.82943344116211, 49.02011489868164, 49.63261032104492, 55.8135986328125, 53.6133918762207, 52.28508758544922, 48.489097595214844, 42.879188537597656, 50.084651947021484, 42.481510162353516, 44.454673767089844, 39.428619384765625, 40.929176330566406, 41.27650451660156, 39.473060607910156, 37.135108947753906, 38.11610412597656, 35.64038848876953, 35.47478485107422, 33.564430236816406, 33.686424255371094, 34.18149948120117]\n"
          ],
          "name": "stdout"
        }
      ]
    },
    {
      "cell_type": "code",
      "metadata": {
        "colab": {
          "base_uri": "https://localhost:8080/",
          "height": 655
        },
        "id": "eZ-yO9r8QqKc",
        "outputId": "6a507588-4d8d-491e-f65a-7e7003571922"
      },
      "source": [
        "fig, axes = plt.subplots(2,figsize=(20, 10))\r\n",
        "\r\n",
        "fig.subplots_adjust(hspace=0.5)\r\n",
        "\r\n",
        "bestVGG=3\r\n",
        "bestLeNet=14\r\n",
        "wrostVGG=13\r\n",
        "worstLeNet=17\r\n",
        "\r\n",
        "xmaxVGG=len(history[0]['frontal'][bestVGG].history['loss'])\r\n",
        "xmaxLeNet=len(history[1]['frontal'][bestLeNet].history['loss'])\r\n",
        "\r\n",
        "plt.setp(axes[:], ylim=(20, 80))\r\n",
        "plt.setp(axes[0], xlim=(0,xmaxVGG))\r\n",
        "plt.setp(axes[1], xlim=(0,xmaxLeNet))\r\n",
        "\r\n",
        "trainData = mpatches.Patch(color='b',label='Best Training')\r\n",
        "valData = mpatches.Patch(color='r', label='Best Validation')\r\n",
        "LNtrainData = mpatches.Patch(color='c',label='Worst Training')\r\n",
        "LNminEstimationError=mpatches.Patch(color='y',label='Worst Validation')\r\n",
        "minEstimationError=mpatches.Patch(color='g',label='Min Required Error')\r\n",
        "\r\n",
        "\r\n",
        "axes[1].legend(bbox_to_anchor=(0.5, -0.25), \r\n",
        "               loc='center',\r\n",
        "               handles=[trainData,valData,\r\n",
        "                        LNtrainData,LNminEstimationError,\r\n",
        "                        minEstimationError],\r\n",
        "               ncol=5,\r\n",
        "               prop={'size': 12})\r\n",
        "\r\n",
        "axes[0].set_title('VGG: Absolute % Error')\r\n",
        "axes[0].set_xlabel('Epoch')\r\n",
        "axes[0].set_ylabel('Absolute Percentage Error')\r\n",
        "axes[0].plot(history[0]['frontal'][bestVGG].history['mean_absolute_percentage_error'],'b')\r\n",
        "axes[0].plot(history[0]['frontal'][bestVGG].history['val_mean_absolute_percentage_error'],'r')\r\n",
        "axes[0].plot(history[0]['frontal'][wrostVGG].history['mean_absolute_percentage_error'],'c')\r\n",
        "axes[0].plot(history[0]['frontal'][wrostVGG].history['val_mean_absolute_percentage_error'],'y')\r\n",
        "\r\n",
        "\r\n",
        "\r\n",
        "axes[1].set_title('LeNet: Absolute % Error')\r\n",
        "axes[1].set_ylabel('Absolute Percentage Error')\r\n",
        "axes[1].set_xlabel('Epoch')\r\n",
        "axes[1].plot(history[1]['frontal'][bestLeNet].history['mean_absolute_percentage_error'],'b')\r\n",
        "axes[1].plot(history[1]['frontal'][bestLeNet].history['val_mean_absolute_percentage_error'],'r')\r\n",
        "axes[1].plot(history[1]['frontal'][worstLeNet].history['mean_absolute_percentage_error'],'c')\r\n",
        "axes[1].plot(history[1]['frontal'][worstLeNet].history['val_mean_absolute_percentage_error'],'y')\r\n",
        "\r\n",
        "\r\n",
        "\r\n",
        "axes[0].hlines(y=75,xmin=0,xmax=xmaxVGG,color='g')\r\n",
        "axes[1].hlines(y=75,xmin=0,xmax=xmaxLeNet,color='g')\r\n",
        "\r\n",
        "fig.patch.set_facecolor('xkcd:white')\r\n"
      ],
      "execution_count": null,
      "outputs": [
        {
          "output_type": "display_data",
          "data": {
            "image/png": "[encoded data removed]",
            "text/plain": [
              "<Figure size 1440x720 with 2 Axes>"
            ]
          },
          "metadata": {
            "tags": []
          }
        }
      ]
    }
  ]
}